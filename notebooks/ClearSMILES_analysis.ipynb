{
 "cells": [
  {
   "cell_type": "code",
   "execution_count": 1,
   "metadata": {},
   "outputs": [],
   "source": [
    "import pandas as pd\n",
    "import copy\n",
    "from collections import defaultdict\n",
    "import numpy as np\n",
    "import multiprocessing as mp \n",
    "from rdkit import Chem\n",
    "import seaborn as sns\n",
    "from functools import partial\n",
    "from rdkit.Chem.Draw import IPythonConsole\n",
    "from rdkit.Chem import Draw\n",
    "IPythonConsole.ipython_useSVG=False\n",
    "from IPython.display import SVG\n",
    "from rdkit import RDLogger\n",
    "RDLogger.DisableLog('rdApp.*')\n",
    "import re\n",
    "from itertools import chain\n",
    "import matplotlib.pyplot as plt\n",
    "from rdkit.Chem.Draw import rdMolDraw2D\n",
    "from itertools import chain\n",
    "import svgwrite\n",
    "from IPython.display import SVG, display\n",
    "from xml.etree import ElementTree as ET\n",
    "import svg_stack as ss"
   ]
  },
  {
   "cell_type": "code",
   "execution_count": 2,
   "metadata": {},
   "outputs": [
    {
     "name": "stdout",
     "output_type": "stream",
     "text": [
      "Requirement already satisfied: svg_stack in /home/etienne-reboul/anaconda3/envs/ClearSMILES/lib/python3.10/site-packages (0.1.0)\n"
     ]
    }
   ],
   "source": [
    "! pip install svg_stack"
   ]
  },
  {
   "cell_type": "code",
   "execution_count": 3,
   "metadata": {},
   "outputs": [
    {
     "name": "stdout",
     "output_type": "stream",
     "text": [
      "Requirement already satisfied: lxml in /home/etienne-reboul/anaconda3/envs/ClearSMILES/lib/python3.10/site-packages (5.3.0)\n"
     ]
    }
   ],
   "source": [
    "!pip install lxml"
   ]
  },
  {
   "cell_type": "code",
   "execution_count": 4,
   "metadata": {},
   "outputs": [],
   "source": [
    "sns.set(rc={'figure.figsize':(6,3)})\n",
    "sns.set(font_scale=1)"
   ]
  },
  {
   "cell_type": "code",
   "execution_count": 5,
   "metadata": {},
   "outputs": [],
   "source": [
    "NB_CORES= 10"
   ]
  },
  {
   "cell_type": "code",
   "execution_count": 6,
   "metadata": {},
   "outputs": [],
   "source": [
    "PATTERN =  \"(\\[[^\\]]+]|Br?|Cl?|N|O|S|P|F|I|b|c|n|o|s|p|\\(|\\)|\\.|=|#|-|\\+|\\\\\\\\|\\/|_|:|~|@|\\?|>|\\*|\\$|\\%[0-9]{2}|[0-9])\"\n",
    "SMILES_REGEX = re.compile(PATTERN)"
   ]
  },
  {
   "cell_type": "code",
   "execution_count": 7,
   "metadata": {},
   "outputs": [],
   "source": [
    "df= pd.read_parquet(\"../data/processed/compressed_whole_MOSES_ClearSMILES_results.parquet\")"
   ]
  },
  {
   "cell_type": "code",
   "execution_count": 8,
   "metadata": {},
   "outputs": [
    {
     "data": {
      "text/html": [
       "<div>\n",
       "<style scoped>\n",
       "    .dataframe tbody tr th:only-of-type {\n",
       "        vertical-align: middle;\n",
       "    }\n",
       "\n",
       "    .dataframe tbody tr th {\n",
       "        vertical-align: top;\n",
       "    }\n",
       "\n",
       "    .dataframe thead th {\n",
       "        text-align: right;\n",
       "    }\n",
       "</style>\n",
       "<table border=\"1\" class=\"dataframe\">\n",
       "  <thead>\n",
       "    <tr style=\"text-align: right;\">\n",
       "      <th></th>\n",
       "      <th>nb_random</th>\n",
       "      <th>max_digit</th>\n",
       "      <th>lowest_mem_score</th>\n",
       "      <th>nb_unique_random_smiles</th>\n",
       "      <th>nb_lowest_max_digit_smiles</th>\n",
       "      <th>nb_equivalent_solution</th>\n",
       "      <th>ClearSMILES_set</th>\n",
       "      <th>random_gen_time</th>\n",
       "      <th>min_max_digit_time</th>\n",
       "      <th>mem_map_time</th>\n",
       "      <th>total_time</th>\n",
       "      <th>SMILES</th>\n",
       "      <th>SPLIT</th>\n",
       "    </tr>\n",
       "  </thead>\n",
       "  <tbody>\n",
       "    <tr>\n",
       "      <th>0</th>\n",
       "      <td>100000</td>\n",
       "      <td>1</td>\n",
       "      <td>0.906977</td>\n",
       "      <td>7614</td>\n",
       "      <td>5025</td>\n",
       "      <td>2</td>\n",
       "      <td>FC1=CC=C(F)C=C1NS(=O)(=O)C1=CC=C(F)C(F)=C1F_FC...</td>\n",
       "      <td>6.809037</td>\n",
       "      <td>0.023423</td>\n",
       "      <td>0.175887</td>\n",
       "      <td>7.008428</td>\n",
       "      <td>O=S(=O)(Nc1cc(F)ccc1F)c1ccc(F)c(F)c1F</td>\n",
       "      <td>train</td>\n",
       "    </tr>\n",
       "    <tr>\n",
       "      <th>1</th>\n",
       "      <td>100000</td>\n",
       "      <td>1</td>\n",
       "      <td>0.829268</td>\n",
       "      <td>2544</td>\n",
       "      <td>1656</td>\n",
       "      <td>2</td>\n",
       "      <td>FC1=CC=C(F)C=C1NS(=O)(=O)C1C=CC=C(C=1)C#N_N#CC...</td>\n",
       "      <td>6.461382</td>\n",
       "      <td>0.007614</td>\n",
       "      <td>0.052121</td>\n",
       "      <td>6.521148</td>\n",
       "      <td>N#Cc1cccc(S(=O)(=O)Nc2cc(F)ccc2F)c1</td>\n",
       "      <td>test</td>\n",
       "    </tr>\n",
       "    <tr>\n",
       "      <th>2</th>\n",
       "      <td>100000</td>\n",
       "      <td>1</td>\n",
       "      <td>0.853659</td>\n",
       "      <td>2544</td>\n",
       "      <td>1656</td>\n",
       "      <td>2</td>\n",
       "      <td>N#CC1=CC=C(C=C1)S(=O)(=O)NC1=CC(F)=CC=C1F_FC1=...</td>\n",
       "      <td>6.471750</td>\n",
       "      <td>0.007562</td>\n",
       "      <td>0.052288</td>\n",
       "      <td>6.531633</td>\n",
       "      <td>N#Cc1ccc(S(=O)(=O)Nc2cc(F)ccc2F)cc1</td>\n",
       "      <td>train</td>\n",
       "    </tr>\n",
       "    <tr>\n",
       "      <th>3</th>\n",
       "      <td>100000</td>\n",
       "      <td>2</td>\n",
       "      <td>0.955556</td>\n",
       "      <td>4820</td>\n",
       "      <td>3614</td>\n",
       "      <td>1</td>\n",
       "      <td>O1CCCOC2C1=CC=C(C=2)S(=O)(=O)NC1=CC(F)=CC=C1F</td>\n",
       "      <td>7.824565</td>\n",
       "      <td>0.013055</td>\n",
       "      <td>0.124897</td>\n",
       "      <td>7.962536</td>\n",
       "      <td>O=S(=O)(Nc1cc(F)ccc1F)c1ccc2c(c1)OCCCO2</td>\n",
       "      <td>train</td>\n",
       "    </tr>\n",
       "    <tr>\n",
       "      <th>4</th>\n",
       "      <td>100000</td>\n",
       "      <td>1</td>\n",
       "      <td>0.857143</td>\n",
       "      <td>4463</td>\n",
       "      <td>2879</td>\n",
       "      <td>2</td>\n",
       "      <td>COC1=CC=C(OC)C=C1S(=O)(=O)NC1=CC(F)=CC=C1F_FC1...</td>\n",
       "      <td>6.936087</td>\n",
       "      <td>0.013249</td>\n",
       "      <td>0.097328</td>\n",
       "      <td>7.046707</td>\n",
       "      <td>COc1ccc(OC)c(S(=O)(=O)Nc2cc(F)ccc2F)c1</td>\n",
       "      <td>train</td>\n",
       "    </tr>\n",
       "    <tr>\n",
       "      <th>...</th>\n",
       "      <td>...</td>\n",
       "      <td>...</td>\n",
       "      <td>...</td>\n",
       "      <td>...</td>\n",
       "      <td>...</td>\n",
       "      <td>...</td>\n",
       "      <td>...</td>\n",
       "      <td>...</td>\n",
       "      <td>...</td>\n",
       "      <td>...</td>\n",
       "      <td>...</td>\n",
       "      <td>...</td>\n",
       "      <td>...</td>\n",
       "    </tr>\n",
       "    <tr>\n",
       "      <th>1936957</th>\n",
       "      <td>100000</td>\n",
       "      <td>2</td>\n",
       "      <td>0.875000</td>\n",
       "      <td>2176</td>\n",
       "      <td>1688</td>\n",
       "      <td>1</td>\n",
       "      <td>C1CCCN2C1COC(C2)CNC(=O)NCC1C=CC=C(C=1)OC</td>\n",
       "      <td>16.224227</td>\n",
       "      <td>0.010762</td>\n",
       "      <td>0.102354</td>\n",
       "      <td>16.337362</td>\n",
       "      <td>COc1cccc(CNC(=O)NCC2CN3CCCCC3CO2)c1</td>\n",
       "      <td>train</td>\n",
       "    </tr>\n",
       "    <tr>\n",
       "      <th>1936958</th>\n",
       "      <td>100000</td>\n",
       "      <td>2</td>\n",
       "      <td>0.952381</td>\n",
       "      <td>4112</td>\n",
       "      <td>3256</td>\n",
       "      <td>3</td>\n",
       "      <td>C1CCCN2C1COC(C2)CNC(=O)NCC1C=C(F)C(C)=CC=1_C1C...</td>\n",
       "      <td>15.889686</td>\n",
       "      <td>0.020518</td>\n",
       "      <td>0.196105</td>\n",
       "      <td>16.106328</td>\n",
       "      <td>Cc1ccc(CNC(=O)NCC2CN3CCCCC3CO2)cc1F</td>\n",
       "      <td>train</td>\n",
       "    </tr>\n",
       "    <tr>\n",
       "      <th>1936959</th>\n",
       "      <td>100000</td>\n",
       "      <td>2</td>\n",
       "      <td>0.875000</td>\n",
       "      <td>2080</td>\n",
       "      <td>1360</td>\n",
       "      <td>1</td>\n",
       "      <td>C1CCCN2C1COC(C2)CNC(=O)NC1=NN=C(S1)C1CC1</td>\n",
       "      <td>16.651164</td>\n",
       "      <td>0.009991</td>\n",
       "      <td>0.081478</td>\n",
       "      <td>16.742665</td>\n",
       "      <td>O=C(NCC1CN2CCCCC2CO1)Nc1nnc(C2CC2)s1</td>\n",
       "      <td>train</td>\n",
       "    </tr>\n",
       "    <tr>\n",
       "      <th>1936960</th>\n",
       "      <td>100000</td>\n",
       "      <td>1</td>\n",
       "      <td>0.790698</td>\n",
       "      <td>2112</td>\n",
       "      <td>736</td>\n",
       "      <td>8</td>\n",
       "      <td>C1C=CC=CC=1SCCNC(=O)C1C=NN(C=1C)C1C=CN=CC=1_C1...</td>\n",
       "      <td>15.300178</td>\n",
       "      <td>0.010769</td>\n",
       "      <td>0.045422</td>\n",
       "      <td>15.356399</td>\n",
       "      <td>Cc1c(C(=O)NCCSc2ccccc2)cnn1-c1ccncc1</td>\n",
       "      <td>test_scaffolds</td>\n",
       "    </tr>\n",
       "    <tr>\n",
       "      <th>1936961</th>\n",
       "      <td>100000</td>\n",
       "      <td>2</td>\n",
       "      <td>0.930233</td>\n",
       "      <td>3528</td>\n",
       "      <td>1944</td>\n",
       "      <td>1</td>\n",
       "      <td>C1CCCN2C1COC(C2)CNC(=O)NC1=CC=CC2C1=NC=CC=2</td>\n",
       "      <td>16.399632</td>\n",
       "      <td>0.016547</td>\n",
       "      <td>0.124687</td>\n",
       "      <td>16.540890</td>\n",
       "      <td>O=C(NCC1CN2CCCCC2CO1)Nc1cccc2cccnc12</td>\n",
       "      <td>train</td>\n",
       "    </tr>\n",
       "  </tbody>\n",
       "</table>\n",
       "<p>1936962 rows × 13 columns</p>\n",
       "</div>"
      ],
      "text/plain": [
       "         nb_random  max_digit  lowest_mem_score  nb_unique_random_smiles  \\\n",
       "0           100000          1          0.906977                     7614   \n",
       "1           100000          1          0.829268                     2544   \n",
       "2           100000          1          0.853659                     2544   \n",
       "3           100000          2          0.955556                     4820   \n",
       "4           100000          1          0.857143                     4463   \n",
       "...            ...        ...               ...                      ...   \n",
       "1936957     100000          2          0.875000                     2176   \n",
       "1936958     100000          2          0.952381                     4112   \n",
       "1936959     100000          2          0.875000                     2080   \n",
       "1936960     100000          1          0.790698                     2112   \n",
       "1936961     100000          2          0.930233                     3528   \n",
       "\n",
       "         nb_lowest_max_digit_smiles  nb_equivalent_solution  \\\n",
       "0                              5025                       2   \n",
       "1                              1656                       2   \n",
       "2                              1656                       2   \n",
       "3                              3614                       1   \n",
       "4                              2879                       2   \n",
       "...                             ...                     ...   \n",
       "1936957                        1688                       1   \n",
       "1936958                        3256                       3   \n",
       "1936959                        1360                       1   \n",
       "1936960                         736                       8   \n",
       "1936961                        1944                       1   \n",
       "\n",
       "                                           ClearSMILES_set  random_gen_time  \\\n",
       "0        FC1=CC=C(F)C=C1NS(=O)(=O)C1=CC=C(F)C(F)=C1F_FC...         6.809037   \n",
       "1        FC1=CC=C(F)C=C1NS(=O)(=O)C1C=CC=C(C=1)C#N_N#CC...         6.461382   \n",
       "2        N#CC1=CC=C(C=C1)S(=O)(=O)NC1=CC(F)=CC=C1F_FC1=...         6.471750   \n",
       "3            O1CCCOC2C1=CC=C(C=2)S(=O)(=O)NC1=CC(F)=CC=C1F         7.824565   \n",
       "4        COC1=CC=C(OC)C=C1S(=O)(=O)NC1=CC(F)=CC=C1F_FC1...         6.936087   \n",
       "...                                                    ...              ...   \n",
       "1936957           C1CCCN2C1COC(C2)CNC(=O)NCC1C=CC=C(C=1)OC        16.224227   \n",
       "1936958  C1CCCN2C1COC(C2)CNC(=O)NCC1C=C(F)C(C)=CC=1_C1C...        15.889686   \n",
       "1936959           C1CCCN2C1COC(C2)CNC(=O)NC1=NN=C(S1)C1CC1        16.651164   \n",
       "1936960  C1C=CC=CC=1SCCNC(=O)C1C=NN(C=1C)C1C=CN=CC=1_C1...        15.300178   \n",
       "1936961        C1CCCN2C1COC(C2)CNC(=O)NC1=CC=CC2C1=NC=CC=2        16.399632   \n",
       "\n",
       "         min_max_digit_time  mem_map_time  total_time  \\\n",
       "0                  0.023423      0.175887    7.008428   \n",
       "1                  0.007614      0.052121    6.521148   \n",
       "2                  0.007562      0.052288    6.531633   \n",
       "3                  0.013055      0.124897    7.962536   \n",
       "4                  0.013249      0.097328    7.046707   \n",
       "...                     ...           ...         ...   \n",
       "1936957            0.010762      0.102354   16.337362   \n",
       "1936958            0.020518      0.196105   16.106328   \n",
       "1936959            0.009991      0.081478   16.742665   \n",
       "1936960            0.010769      0.045422   15.356399   \n",
       "1936961            0.016547      0.124687   16.540890   \n",
       "\n",
       "                                          SMILES           SPLIT  \n",
       "0          O=S(=O)(Nc1cc(F)ccc1F)c1ccc(F)c(F)c1F           train  \n",
       "1            N#Cc1cccc(S(=O)(=O)Nc2cc(F)ccc2F)c1            test  \n",
       "2            N#Cc1ccc(S(=O)(=O)Nc2cc(F)ccc2F)cc1           train  \n",
       "3        O=S(=O)(Nc1cc(F)ccc1F)c1ccc2c(c1)OCCCO2           train  \n",
       "4         COc1ccc(OC)c(S(=O)(=O)Nc2cc(F)ccc2F)c1           train  \n",
       "...                                          ...             ...  \n",
       "1936957      COc1cccc(CNC(=O)NCC2CN3CCCCC3CO2)c1           train  \n",
       "1936958      Cc1ccc(CNC(=O)NCC2CN3CCCCC3CO2)cc1F           train  \n",
       "1936959     O=C(NCC1CN2CCCCC2CO1)Nc1nnc(C2CC2)s1           train  \n",
       "1936960     Cc1c(C(=O)NCCSc2ccccc2)cnn1-c1ccncc1  test_scaffolds  \n",
       "1936961     O=C(NCC1CN2CCCCC2CO1)Nc1cccc2cccnc12           train  \n",
       "\n",
       "[1936962 rows x 13 columns]"
      ]
     },
     "execution_count": 8,
     "metadata": {},
     "output_type": "execute_result"
    }
   ],
   "source": [
    "df"
   ]
  },
  {
   "cell_type": "code",
   "execution_count": 9,
   "metadata": {},
   "outputs": [
    {
     "data": {
      "text/plain": [
       "0.00      1.0\n",
       "0.05      1.0\n",
       "0.10      1.0\n",
       "0.15      1.0\n",
       "0.20      2.0\n",
       "0.25      2.0\n",
       "0.30      2.0\n",
       "0.35      2.0\n",
       "0.40      2.0\n",
       "0.45      2.0\n",
       "0.50      2.0\n",
       "0.55      3.0\n",
       "0.60      4.0\n",
       "0.65      4.0\n",
       "0.70      4.0\n",
       "0.75      4.0\n",
       "0.80      4.0\n",
       "0.85      6.0\n",
       "0.90      8.0\n",
       "0.95      8.0\n",
       "1.00    128.0\n",
       "Name: nb_equivalent_solution, dtype: float64"
      ]
     },
     "execution_count": 9,
     "metadata": {},
     "output_type": "execute_result"
    }
   ],
   "source": [
    "df[\"nb_equivalent_solution\"].quantile(np.arange(0,1.05,.05))"
   ]
  },
  {
   "cell_type": "code",
   "execution_count": 10,
   "metadata": {},
   "outputs": [],
   "source": [
    "def get_canonical_SMILES(sanitized_smiles=str()):\n",
    "    \"\"\"\n",
    "    Take a sanitized SMILES and get the canonical SMILES out of it. achieved by generating 2D mol\n",
    "    input: \n",
    "        sanitized_smiles (string), SMILES that has been sanitized by removing its explicit hydrogen + no charges \n",
    "    output: \n",
    "        canonical_smiles (string), canoncial SMILES generated using RDKIT algorithm \n",
    "    \"\"\"\n",
    "    ###  generate 2D structure from SMILES \n",
    "    mol= Chem.MolFromSmiles(sanitized_smiles)\n",
    "\n",
    "    return Chem.MolToSmiles(mol)"
   ]
  },
  {
   "cell_type": "code",
   "execution_count": 11,
   "metadata": {},
   "outputs": [],
   "source": [
    "with mp.Pool(NB_CORES) as pool:\n",
    "    df[\"canonical_smiles\"]= pool.map(get_canonical_SMILES,df[\"SMILES\"])\n",
    "    pool.close()\n",
    "    pool.join()"
   ]
  },
  {
   "cell_type": "code",
   "execution_count": 12,
   "metadata": {},
   "outputs": [],
   "source": [
    "def sample_clearsmiles(dumsmiles_list_string : str)->str:\n",
    "    \"\"\"\n",
    "    function to split the undersocre separeted dumbsmiles list string and return the first element of that list, \n",
    "    works if there only one element in the list\n",
    "    input: \n",
    "        dumsmiles_list_string (string), underscore separated dumbsmiles list string\n",
    "    output:\n",
    "        dumsmiles (string), the first element of the list\n",
    "    \"\"\"\n",
    "    return dumsmiles_list_string.split('_')[0]"
   ]
  },
  {
   "cell_type": "code",
   "execution_count": 13,
   "metadata": {},
   "outputs": [],
   "source": [
    "with mp.Pool(mp.cpu_count()) as pool:\n",
    "    df[\"sampled_ClearSMILES\"]= pool.map(sample_clearsmiles,df[\"ClearSMILES_set\"])\n",
    "    pool.close()\n",
    "    pool.join()"
   ]
  },
  {
   "cell_type": "code",
   "execution_count": 14,
   "metadata": {},
   "outputs": [],
   "source": [
    "def get_unique_tokens(smiles,SMILES_REGEX):\n",
    "    \"\"\"\n",
    "    use regular expression to decompose SMILES to tokens and mesure length\n",
    "    input parameters: smiles (strings), SMILES_REGEX (compiled regex pattern)\n",
    "    output: number of tokens in the SMILES (integer)\n",
    "    \"\"\"\n",
    "    return set(SMILES_REGEX.findall(smiles))"
   ]
  },
  {
   "cell_type": "code",
   "execution_count": 15,
   "metadata": {},
   "outputs": [],
   "source": [
    "with mp.Pool(mp.cpu_count()) as pool:\n",
    "    smiles_tokens_list=pool.map(partial(get_unique_tokens,SMILES_REGEX=SMILES_REGEX),df[\"canonical_smiles\"])\n",
    "    pool.close()\n",
    "    pool.join()"
   ]
  },
  {
   "cell_type": "code",
   "execution_count": 16,
   "metadata": {},
   "outputs": [
    {
     "data": {
      "text/plain": [
       "23"
      ]
     },
     "execution_count": 16,
     "metadata": {},
     "output_type": "execute_result"
    }
   ],
   "source": [
    "true_set=set()\n",
    "\n",
    "for tokens_set in smiles_tokens_list:\n",
    "    true_set.update(tokens_set)\n",
    "len(true_set)"
   ]
  },
  {
   "cell_type": "code",
   "execution_count": 17,
   "metadata": {},
   "outputs": [],
   "source": [
    "regular_smiles_set=true_set"
   ]
  },
  {
   "cell_type": "code",
   "execution_count": 18,
   "metadata": {},
   "outputs": [
    {
     "data": {
      "text/plain": [
       "{'#',\n",
       " '(',\n",
       " ')',\n",
       " '-',\n",
       " '1',\n",
       " '2',\n",
       " '3',\n",
       " '4',\n",
       " '5',\n",
       " '6',\n",
       " '=',\n",
       " 'Br',\n",
       " 'C',\n",
       " 'Cl',\n",
       " 'F',\n",
       " 'N',\n",
       " 'O',\n",
       " 'S',\n",
       " '[nH]',\n",
       " 'c',\n",
       " 'n',\n",
       " 'o',\n",
       " 's'}"
      ]
     },
     "execution_count": 18,
     "metadata": {},
     "output_type": "execute_result"
    }
   ],
   "source": [
    "regular_smiles_set"
   ]
  },
  {
   "cell_type": "code",
   "execution_count": 19,
   "metadata": {},
   "outputs": [],
   "source": [
    "with mp.Pool(mp.cpu_count()) as pool:\n",
    "    smiles_tokens_list=pool.map(partial(get_unique_tokens,SMILES_REGEX=SMILES_REGEX),df[\"sampled_ClearSMILES\"])\n",
    "    pool.close()\n",
    "    pool.join()"
   ]
  },
  {
   "cell_type": "code",
   "execution_count": 20,
   "metadata": {},
   "outputs": [
    {
     "data": {
      "text/plain": [
       "15"
      ]
     },
     "execution_count": 20,
     "metadata": {},
     "output_type": "execute_result"
    }
   ],
   "source": [
    "true_set=set()\n",
    "\n",
    "for tokens_set in smiles_tokens_list:\n",
    "    true_set.update(tokens_set)\n",
    "len(true_set)"
   ]
  },
  {
   "cell_type": "code",
   "execution_count": 21,
   "metadata": {},
   "outputs": [
    {
     "data": {
      "text/plain": [
       "{'#', '(', ')', '1', '2', '3', '4', '=', 'Br', 'C', 'Cl', 'F', 'N', 'O', 'S'}"
      ]
     },
     "execution_count": 21,
     "metadata": {},
     "output_type": "execute_result"
    }
   ],
   "source": [
    "true_set"
   ]
  },
  {
   "cell_type": "code",
   "execution_count": 22,
   "metadata": {},
   "outputs": [],
   "source": [
    "def find_nb_tokens(smiles=str(),SMILES_REGEX=re.compile(\"(\\[[^\\]]+]|Br?|Cl?|N|O|S|P|F|I|b|c|n|o|s|p|\\(|\\)|\\.|=|#|-|\\+|\\\\\\\\|\\/|_|:|~|@|\\?|>|\\*|\\$|\\%[0-9]{2}|[0-9])\")):\n",
    "     ### get token list from SMILES\n",
    "    return len(SMILES_REGEX.findall(smiles))\n",
    "    "
   ]
  },
  {
   "cell_type": "code",
   "execution_count": 23,
   "metadata": {},
   "outputs": [],
   "source": [
    "with mp.Pool(NB_CORES) as pool:\n",
    "    df[\"nb_token_regular\"]=pool.map(partial(find_nb_tokens,SMILES_REGEX=SMILES_REGEX),df[\"canonical_smiles\"])\n",
    "    pool.close()\n",
    "    pool.join()"
   ]
  },
  {
   "cell_type": "code",
   "execution_count": 24,
   "metadata": {},
   "outputs": [
    {
     "data": {
      "text/plain": [
       "54"
      ]
     },
     "execution_count": 24,
     "metadata": {},
     "output_type": "execute_result"
    }
   ],
   "source": [
    "df[\"nb_token_regular\"].max()"
   ]
  },
  {
   "cell_type": "code",
   "execution_count": 25,
   "metadata": {},
   "outputs": [
    {
     "data": {
      "text/plain": [
       "6930126"
      ]
     },
     "execution_count": 25,
     "metadata": {},
     "output_type": "execute_result"
    }
   ],
   "source": [
    "df[\"nb_equivalent_solution\"].sum()"
   ]
  },
  {
   "cell_type": "code",
   "execution_count": 26,
   "metadata": {},
   "outputs": [],
   "source": [
    "with mp.Pool(mp.cpu_count()) as pool:\n",
    "    df[\"nb_token_ClearSMILES\"]=pool.map(partial(find_nb_tokens,SMILES_REGEX=SMILES_REGEX),df[\"sampled_ClearSMILES\"])\n",
    "    pool.close()\n",
    "    pool.join()"
   ]
  },
  {
   "cell_type": "code",
   "execution_count": 27,
   "metadata": {},
   "outputs": [
    {
     "data": {
      "text/plain": [
       "59"
      ]
     },
     "execution_count": 27,
     "metadata": {},
     "output_type": "execute_result"
    }
   ],
   "source": [
    "df[\"nb_token_ClearSMILES\"].max()"
   ]
  },
  {
   "cell_type": "code",
   "execution_count": 28,
   "metadata": {},
   "outputs": [],
   "source": [
    "df_tokens_length=pd.DataFrame(data=[\n",
    "    [\"canonical SMILES\",smiles_length]for smiles_length in df[\"nb_token_regular\"]]+[[\"sampled ClearSMILES\",smiles_length] \n",
    "                                                                                    for smiles_length in df[\"nb_token_ClearSMILES\"]],columns=[\"molecular string representation\",\"nb_tokens\"])"
   ]
  },
  {
   "cell_type": "code",
   "execution_count": 29,
   "metadata": {},
   "outputs": [
    {
     "data": {
      "image/png": "[encoded data removed]",
      "text/plain": [
       "<Figure size 600x600 with 1 Axes>"
      ]
     },
     "metadata": {},
     "output_type": "display_data"
    }
   ],
   "source": [
    "sns.set(rc={'figure.figsize':(6,6)})\n",
    "sns.set(font_scale=0.90)\n",
    "\n",
    "fig=sns.countplot(data=df_tokens_length,y=\"nb_tokens\", hue=\"molecular string representation\")\n",
    "fig.set_xlabel(\"number of strings\")\n",
    "fig.set_ylabel(\"number of tokens per string\")\n",
    "fig.tick_params(axis='x', labelsize=10)\n",
    "fig.tick_params(axis='y', labelsize=8)\n",
    "plt.savefig(\"../../../Pictures/tokens_length.svg\", format='svg')"
   ]
  },
  {
   "cell_type": "code",
   "execution_count": 30,
   "metadata": {},
   "outputs": [
    {
     "data": {
      "text/plain": [
       "molecular string representation      \n",
       "canonical SMILES                 0.00    13.0\n",
       "                                 0.25    32.0\n",
       "                                 0.50    36.0\n",
       "                                 0.75    39.0\n",
       "                                 1.00    54.0\n",
       "sampled ClearSMILES              0.00    13.0\n",
       "                                 0.25    36.0\n",
       "                                 0.50    40.0\n",
       "                                 0.75    44.0\n",
       "                                 1.00    59.0\n",
       "Name: nb_tokens, dtype: float64"
      ]
     },
     "execution_count": 30,
     "metadata": {},
     "output_type": "execute_result"
    }
   ],
   "source": [
    "df_tokens_length.groupby(by=[\"molecular string representation\"])[\"nb_tokens\"].quantile([0,.25,.5,.75,1])"
   ]
  },
  {
   "cell_type": "code",
   "execution_count": 31,
   "metadata": {},
   "outputs": [],
   "source": [
    "subset=df.query('nb_token_ClearSMILES<=58 & max_digit<=2')"
   ]
  },
  {
   "cell_type": "code",
   "execution_count": 32,
   "metadata": {},
   "outputs": [],
   "source": [
    "subset=subset.rename(columns={\"sampled_ClearSMILES\":\"smiles\"})"
   ]
  },
  {
   "cell_type": "code",
   "execution_count": 33,
   "metadata": {},
   "outputs": [
    {
     "data": {
      "text/html": [
       "<div>\n",
       "<style scoped>\n",
       "    .dataframe tbody tr th:only-of-type {\n",
       "        vertical-align: middle;\n",
       "    }\n",
       "\n",
       "    .dataframe tbody tr th {\n",
       "        vertical-align: top;\n",
       "    }\n",
       "\n",
       "    .dataframe thead th {\n",
       "        text-align: right;\n",
       "    }\n",
       "</style>\n",
       "<table border=\"1\" class=\"dataframe\">\n",
       "  <thead>\n",
       "    <tr style=\"text-align: right;\">\n",
       "      <th></th>\n",
       "      <th>nb_random</th>\n",
       "      <th>max_digit</th>\n",
       "      <th>lowest_mem_score</th>\n",
       "      <th>nb_unique_random_smiles</th>\n",
       "      <th>nb_lowest_max_digit_smiles</th>\n",
       "      <th>nb_equivalent_solution</th>\n",
       "      <th>ClearSMILES_set</th>\n",
       "      <th>random_gen_time</th>\n",
       "      <th>min_max_digit_time</th>\n",
       "      <th>mem_map_time</th>\n",
       "      <th>total_time</th>\n",
       "      <th>SMILES</th>\n",
       "      <th>SPLIT</th>\n",
       "      <th>canonical_smiles</th>\n",
       "      <th>smiles</th>\n",
       "      <th>nb_token_regular</th>\n",
       "      <th>nb_token_ClearSMILES</th>\n",
       "    </tr>\n",
       "  </thead>\n",
       "  <tbody>\n",
       "    <tr>\n",
       "      <th>0</th>\n",
       "      <td>100000</td>\n",
       "      <td>1</td>\n",
       "      <td>0.906977</td>\n",
       "      <td>7614</td>\n",
       "      <td>5025</td>\n",
       "      <td>2</td>\n",
       "      <td>FC1=CC=C(F)C=C1NS(=O)(=O)C1=CC=C(F)C(F)=C1F_FC...</td>\n",
       "      <td>6.809037</td>\n",
       "      <td>0.023423</td>\n",
       "      <td>0.175887</td>\n",
       "      <td>7.008428</td>\n",
       "      <td>O=S(=O)(Nc1cc(F)ccc1F)c1ccc(F)c(F)c1F</td>\n",
       "      <td>train</td>\n",
       "      <td>O=S(=O)(Nc1cc(F)ccc1F)c1ccc(F)c(F)c1F</td>\n",
       "      <td>FC1=CC=C(F)C=C1NS(=O)(=O)C1=CC=C(F)C(F)=C1F</td>\n",
       "      <td>37</td>\n",
       "      <td>43</td>\n",
       "    </tr>\n",
       "    <tr>\n",
       "      <th>1</th>\n",
       "      <td>100000</td>\n",
       "      <td>1</td>\n",
       "      <td>0.829268</td>\n",
       "      <td>2544</td>\n",
       "      <td>1656</td>\n",
       "      <td>2</td>\n",
       "      <td>FC1=CC=C(F)C=C1NS(=O)(=O)C1C=CC=C(C=1)C#N_N#CC...</td>\n",
       "      <td>6.461382</td>\n",
       "      <td>0.007614</td>\n",
       "      <td>0.052121</td>\n",
       "      <td>6.521148</td>\n",
       "      <td>N#Cc1cccc(S(=O)(=O)Nc2cc(F)ccc2F)c1</td>\n",
       "      <td>test</td>\n",
       "      <td>N#Cc1cccc(S(=O)(=O)Nc2cc(F)ccc2F)c1</td>\n",
       "      <td>FC1=CC=C(F)C=C1NS(=O)(=O)C1C=CC=C(C=1)C#N</td>\n",
       "      <td>35</td>\n",
       "      <td>41</td>\n",
       "    </tr>\n",
       "    <tr>\n",
       "      <th>2</th>\n",
       "      <td>100000</td>\n",
       "      <td>1</td>\n",
       "      <td>0.853659</td>\n",
       "      <td>2544</td>\n",
       "      <td>1656</td>\n",
       "      <td>2</td>\n",
       "      <td>N#CC1=CC=C(C=C1)S(=O)(=O)NC1=CC(F)=CC=C1F_FC1=...</td>\n",
       "      <td>6.471750</td>\n",
       "      <td>0.007562</td>\n",
       "      <td>0.052288</td>\n",
       "      <td>6.531633</td>\n",
       "      <td>N#Cc1ccc(S(=O)(=O)Nc2cc(F)ccc2F)cc1</td>\n",
       "      <td>train</td>\n",
       "      <td>N#Cc1ccc(S(=O)(=O)Nc2cc(F)ccc2F)cc1</td>\n",
       "      <td>N#CC1=CC=C(C=C1)S(=O)(=O)NC1=CC(F)=CC=C1F</td>\n",
       "      <td>35</td>\n",
       "      <td>41</td>\n",
       "    </tr>\n",
       "    <tr>\n",
       "      <th>3</th>\n",
       "      <td>100000</td>\n",
       "      <td>2</td>\n",
       "      <td>0.955556</td>\n",
       "      <td>4820</td>\n",
       "      <td>3614</td>\n",
       "      <td>1</td>\n",
       "      <td>O1CCCOC2C1=CC=C(C=2)S(=O)(=O)NC1=CC(F)=CC=C1F</td>\n",
       "      <td>7.824565</td>\n",
       "      <td>0.013055</td>\n",
       "      <td>0.124897</td>\n",
       "      <td>7.962536</td>\n",
       "      <td>O=S(=O)(Nc1cc(F)ccc1F)c1ccc2c(c1)OCCCO2</td>\n",
       "      <td>train</td>\n",
       "      <td>O=S(=O)(Nc1cc(F)ccc1F)c1ccc2c(c1)OCCCO2</td>\n",
       "      <td>O1CCCOC2C1=CC=C(C=2)S(=O)(=O)NC1=CC(F)=CC=C1F</td>\n",
       "      <td>39</td>\n",
       "      <td>45</td>\n",
       "    </tr>\n",
       "    <tr>\n",
       "      <th>4</th>\n",
       "      <td>100000</td>\n",
       "      <td>1</td>\n",
       "      <td>0.857143</td>\n",
       "      <td>4463</td>\n",
       "      <td>2879</td>\n",
       "      <td>2</td>\n",
       "      <td>COC1=CC=C(OC)C=C1S(=O)(=O)NC1=CC(F)=CC=C1F_FC1...</td>\n",
       "      <td>6.936087</td>\n",
       "      <td>0.013249</td>\n",
       "      <td>0.097328</td>\n",
       "      <td>7.046707</td>\n",
       "      <td>COc1ccc(OC)c(S(=O)(=O)Nc2cc(F)ccc2F)c1</td>\n",
       "      <td>train</td>\n",
       "      <td>COc1ccc(OC)c(S(=O)(=O)Nc2cc(F)ccc2F)c1</td>\n",
       "      <td>COC1=CC=C(OC)C=C1S(=O)(=O)NC1=CC(F)=CC=C1F</td>\n",
       "      <td>38</td>\n",
       "      <td>42</td>\n",
       "    </tr>\n",
       "    <tr>\n",
       "      <th>...</th>\n",
       "      <td>...</td>\n",
       "      <td>...</td>\n",
       "      <td>...</td>\n",
       "      <td>...</td>\n",
       "      <td>...</td>\n",
       "      <td>...</td>\n",
       "      <td>...</td>\n",
       "      <td>...</td>\n",
       "      <td>...</td>\n",
       "      <td>...</td>\n",
       "      <td>...</td>\n",
       "      <td>...</td>\n",
       "      <td>...</td>\n",
       "      <td>...</td>\n",
       "      <td>...</td>\n",
       "      <td>...</td>\n",
       "      <td>...</td>\n",
       "    </tr>\n",
       "    <tr>\n",
       "      <th>1936957</th>\n",
       "      <td>100000</td>\n",
       "      <td>2</td>\n",
       "      <td>0.875000</td>\n",
       "      <td>2176</td>\n",
       "      <td>1688</td>\n",
       "      <td>1</td>\n",
       "      <td>C1CCCN2C1COC(C2)CNC(=O)NCC1C=CC=C(C=1)OC</td>\n",
       "      <td>16.224227</td>\n",
       "      <td>0.010762</td>\n",
       "      <td>0.102354</td>\n",
       "      <td>16.337362</td>\n",
       "      <td>COc1cccc(CNC(=O)NCC2CN3CCCCC3CO2)c1</td>\n",
       "      <td>train</td>\n",
       "      <td>COc1cccc(CNC(=O)NCC2CN3CCCCC3CO2)c1</td>\n",
       "      <td>C1CCCN2C1COC(C2)CNC(=O)NCC1C=CC=C(C=1)OC</td>\n",
       "      <td>35</td>\n",
       "      <td>40</td>\n",
       "    </tr>\n",
       "    <tr>\n",
       "      <th>1936958</th>\n",
       "      <td>100000</td>\n",
       "      <td>2</td>\n",
       "      <td>0.952381</td>\n",
       "      <td>4112</td>\n",
       "      <td>3256</td>\n",
       "      <td>3</td>\n",
       "      <td>C1CCCN2C1COC(C2)CNC(=O)NCC1C=C(F)C(C)=CC=1_C1C...</td>\n",
       "      <td>15.889686</td>\n",
       "      <td>0.020518</td>\n",
       "      <td>0.196105</td>\n",
       "      <td>16.106328</td>\n",
       "      <td>Cc1ccc(CNC(=O)NCC2CN3CCCCC3CO2)cc1F</td>\n",
       "      <td>train</td>\n",
       "      <td>Cc1ccc(CNC(=O)NCC2CN3CCCCC3CO2)cc1F</td>\n",
       "      <td>C1CCCN2C1COC(C2)CNC(=O)NCC1C=C(F)C(C)=CC=1</td>\n",
       "      <td>35</td>\n",
       "      <td>42</td>\n",
       "    </tr>\n",
       "    <tr>\n",
       "      <th>1936959</th>\n",
       "      <td>100000</td>\n",
       "      <td>2</td>\n",
       "      <td>0.875000</td>\n",
       "      <td>2080</td>\n",
       "      <td>1360</td>\n",
       "      <td>1</td>\n",
       "      <td>C1CCCN2C1COC(C2)CNC(=O)NC1=NN=C(S1)C1CC1</td>\n",
       "      <td>16.651164</td>\n",
       "      <td>0.009991</td>\n",
       "      <td>0.081478</td>\n",
       "      <td>16.742665</td>\n",
       "      <td>O=C(NCC1CN2CCCCC2CO1)Nc1nnc(C2CC2)s1</td>\n",
       "      <td>train</td>\n",
       "      <td>O=C(NCC1CN2CCCCC2CO1)Nc1nnc(C2CC2)s1</td>\n",
       "      <td>C1CCCN2C1COC(C2)CNC(=O)NC1=NN=C(S1)C1CC1</td>\n",
       "      <td>36</td>\n",
       "      <td>40</td>\n",
       "    </tr>\n",
       "    <tr>\n",
       "      <th>1936960</th>\n",
       "      <td>100000</td>\n",
       "      <td>1</td>\n",
       "      <td>0.790698</td>\n",
       "      <td>2112</td>\n",
       "      <td>736</td>\n",
       "      <td>8</td>\n",
       "      <td>C1C=CC=CC=1SCCNC(=O)C1C=NN(C=1C)C1C=CN=CC=1_C1...</td>\n",
       "      <td>15.300178</td>\n",
       "      <td>0.010769</td>\n",
       "      <td>0.045422</td>\n",
       "      <td>15.356399</td>\n",
       "      <td>Cc1c(C(=O)NCCSc2ccccc2)cnn1-c1ccncc1</td>\n",
       "      <td>test_scaffolds</td>\n",
       "      <td>Cc1c(C(=O)NCCSc2ccccc2)cnn1-c1ccncc1</td>\n",
       "      <td>C1C=CC=CC=1SCCNC(=O)C1C=NN(C=1C)C1C=CN=CC=1</td>\n",
       "      <td>36</td>\n",
       "      <td>43</td>\n",
       "    </tr>\n",
       "    <tr>\n",
       "      <th>1936961</th>\n",
       "      <td>100000</td>\n",
       "      <td>2</td>\n",
       "      <td>0.930233</td>\n",
       "      <td>3528</td>\n",
       "      <td>1944</td>\n",
       "      <td>1</td>\n",
       "      <td>C1CCCN2C1COC(C2)CNC(=O)NC1=CC=CC2C1=NC=CC=2</td>\n",
       "      <td>16.399632</td>\n",
       "      <td>0.016547</td>\n",
       "      <td>0.124687</td>\n",
       "      <td>16.540890</td>\n",
       "      <td>O=C(NCC1CN2CCCCC2CO1)Nc1cccc2cccnc12</td>\n",
       "      <td>train</td>\n",
       "      <td>O=C(NCC1CN2CCCCC2CO1)Nc1cccc2cccnc12</td>\n",
       "      <td>C1CCCN2C1COC(C2)CNC(=O)NC1=CC=CC2C1=NC=CC=2</td>\n",
       "      <td>36</td>\n",
       "      <td>43</td>\n",
       "    </tr>\n",
       "  </tbody>\n",
       "</table>\n",
       "<p>1931569 rows × 17 columns</p>\n",
       "</div>"
      ],
      "text/plain": [
       "         nb_random  max_digit  lowest_mem_score  nb_unique_random_smiles  \\\n",
       "0           100000          1          0.906977                     7614   \n",
       "1           100000          1          0.829268                     2544   \n",
       "2           100000          1          0.853659                     2544   \n",
       "3           100000          2          0.955556                     4820   \n",
       "4           100000          1          0.857143                     4463   \n",
       "...            ...        ...               ...                      ...   \n",
       "1936957     100000          2          0.875000                     2176   \n",
       "1936958     100000          2          0.952381                     4112   \n",
       "1936959     100000          2          0.875000                     2080   \n",
       "1936960     100000          1          0.790698                     2112   \n",
       "1936961     100000          2          0.930233                     3528   \n",
       "\n",
       "         nb_lowest_max_digit_smiles  nb_equivalent_solution  \\\n",
       "0                              5025                       2   \n",
       "1                              1656                       2   \n",
       "2                              1656                       2   \n",
       "3                              3614                       1   \n",
       "4                              2879                       2   \n",
       "...                             ...                     ...   \n",
       "1936957                        1688                       1   \n",
       "1936958                        3256                       3   \n",
       "1936959                        1360                       1   \n",
       "1936960                         736                       8   \n",
       "1936961                        1944                       1   \n",
       "\n",
       "                                           ClearSMILES_set  random_gen_time  \\\n",
       "0        FC1=CC=C(F)C=C1NS(=O)(=O)C1=CC=C(F)C(F)=C1F_FC...         6.809037   \n",
       "1        FC1=CC=C(F)C=C1NS(=O)(=O)C1C=CC=C(C=1)C#N_N#CC...         6.461382   \n",
       "2        N#CC1=CC=C(C=C1)S(=O)(=O)NC1=CC(F)=CC=C1F_FC1=...         6.471750   \n",
       "3            O1CCCOC2C1=CC=C(C=2)S(=O)(=O)NC1=CC(F)=CC=C1F         7.824565   \n",
       "4        COC1=CC=C(OC)C=C1S(=O)(=O)NC1=CC(F)=CC=C1F_FC1...         6.936087   \n",
       "...                                                    ...              ...   \n",
       "1936957           C1CCCN2C1COC(C2)CNC(=O)NCC1C=CC=C(C=1)OC        16.224227   \n",
       "1936958  C1CCCN2C1COC(C2)CNC(=O)NCC1C=C(F)C(C)=CC=1_C1C...        15.889686   \n",
       "1936959           C1CCCN2C1COC(C2)CNC(=O)NC1=NN=C(S1)C1CC1        16.651164   \n",
       "1936960  C1C=CC=CC=1SCCNC(=O)C1C=NN(C=1C)C1C=CN=CC=1_C1...        15.300178   \n",
       "1936961        C1CCCN2C1COC(C2)CNC(=O)NC1=CC=CC2C1=NC=CC=2        16.399632   \n",
       "\n",
       "         min_max_digit_time  mem_map_time  total_time  \\\n",
       "0                  0.023423      0.175887    7.008428   \n",
       "1                  0.007614      0.052121    6.521148   \n",
       "2                  0.007562      0.052288    6.531633   \n",
       "3                  0.013055      0.124897    7.962536   \n",
       "4                  0.013249      0.097328    7.046707   \n",
       "...                     ...           ...         ...   \n",
       "1936957            0.010762      0.102354   16.337362   \n",
       "1936958            0.020518      0.196105   16.106328   \n",
       "1936959            0.009991      0.081478   16.742665   \n",
       "1936960            0.010769      0.045422   15.356399   \n",
       "1936961            0.016547      0.124687   16.540890   \n",
       "\n",
       "                                          SMILES           SPLIT  \\\n",
       "0          O=S(=O)(Nc1cc(F)ccc1F)c1ccc(F)c(F)c1F           train   \n",
       "1            N#Cc1cccc(S(=O)(=O)Nc2cc(F)ccc2F)c1            test   \n",
       "2            N#Cc1ccc(S(=O)(=O)Nc2cc(F)ccc2F)cc1           train   \n",
       "3        O=S(=O)(Nc1cc(F)ccc1F)c1ccc2c(c1)OCCCO2           train   \n",
       "4         COc1ccc(OC)c(S(=O)(=O)Nc2cc(F)ccc2F)c1           train   \n",
       "...                                          ...             ...   \n",
       "1936957      COc1cccc(CNC(=O)NCC2CN3CCCCC3CO2)c1           train   \n",
       "1936958      Cc1ccc(CNC(=O)NCC2CN3CCCCC3CO2)cc1F           train   \n",
       "1936959     O=C(NCC1CN2CCCCC2CO1)Nc1nnc(C2CC2)s1           train   \n",
       "1936960     Cc1c(C(=O)NCCSc2ccccc2)cnn1-c1ccncc1  test_scaffolds   \n",
       "1936961     O=C(NCC1CN2CCCCC2CO1)Nc1cccc2cccnc12           train   \n",
       "\n",
       "                                canonical_smiles  \\\n",
       "0          O=S(=O)(Nc1cc(F)ccc1F)c1ccc(F)c(F)c1F   \n",
       "1            N#Cc1cccc(S(=O)(=O)Nc2cc(F)ccc2F)c1   \n",
       "2            N#Cc1ccc(S(=O)(=O)Nc2cc(F)ccc2F)cc1   \n",
       "3        O=S(=O)(Nc1cc(F)ccc1F)c1ccc2c(c1)OCCCO2   \n",
       "4         COc1ccc(OC)c(S(=O)(=O)Nc2cc(F)ccc2F)c1   \n",
       "...                                          ...   \n",
       "1936957      COc1cccc(CNC(=O)NCC2CN3CCCCC3CO2)c1   \n",
       "1936958      Cc1ccc(CNC(=O)NCC2CN3CCCCC3CO2)cc1F   \n",
       "1936959     O=C(NCC1CN2CCCCC2CO1)Nc1nnc(C2CC2)s1   \n",
       "1936960     Cc1c(C(=O)NCCSc2ccccc2)cnn1-c1ccncc1   \n",
       "1936961     O=C(NCC1CN2CCCCC2CO1)Nc1cccc2cccnc12   \n",
       "\n",
       "                                                smiles  nb_token_regular  \\\n",
       "0          FC1=CC=C(F)C=C1NS(=O)(=O)C1=CC=C(F)C(F)=C1F                37   \n",
       "1            FC1=CC=C(F)C=C1NS(=O)(=O)C1C=CC=C(C=1)C#N                35   \n",
       "2            N#CC1=CC=C(C=C1)S(=O)(=O)NC1=CC(F)=CC=C1F                35   \n",
       "3        O1CCCOC2C1=CC=C(C=2)S(=O)(=O)NC1=CC(F)=CC=C1F                39   \n",
       "4           COC1=CC=C(OC)C=C1S(=O)(=O)NC1=CC(F)=CC=C1F                38   \n",
       "...                                                ...               ...   \n",
       "1936957       C1CCCN2C1COC(C2)CNC(=O)NCC1C=CC=C(C=1)OC                35   \n",
       "1936958     C1CCCN2C1COC(C2)CNC(=O)NCC1C=C(F)C(C)=CC=1                35   \n",
       "1936959       C1CCCN2C1COC(C2)CNC(=O)NC1=NN=C(S1)C1CC1                36   \n",
       "1936960    C1C=CC=CC=1SCCNC(=O)C1C=NN(C=1C)C1C=CN=CC=1                36   \n",
       "1936961    C1CCCN2C1COC(C2)CNC(=O)NC1=CC=CC2C1=NC=CC=2                36   \n",
       "\n",
       "         nb_token_ClearSMILES  \n",
       "0                          43  \n",
       "1                          41  \n",
       "2                          41  \n",
       "3                          45  \n",
       "4                          42  \n",
       "...                       ...  \n",
       "1936957                    40  \n",
       "1936958                    42  \n",
       "1936959                    40  \n",
       "1936960                    43  \n",
       "1936961                    43  \n",
       "\n",
       "[1931569 rows x 17 columns]"
      ]
     },
     "execution_count": 33,
     "metadata": {},
     "output_type": "execute_result"
    }
   ],
   "source": [
    "subset"
   ]
  },
  {
   "cell_type": "code",
   "execution_count": 34,
   "metadata": {},
   "outputs": [
    {
     "data": {
      "text/plain": [
       "array(['train', 'test', 'test_scaffolds'], dtype=object)"
      ]
     },
     "execution_count": 34,
     "metadata": {},
     "output_type": "execute_result"
    }
   ],
   "source": [
    "subset[\"SPLIT\"].unique()"
   ]
  },
  {
   "cell_type": "code",
   "execution_count": 35,
   "metadata": {},
   "outputs": [],
   "source": [
    "train_set=subset.query('SPLIT==\"train\"')\n",
    "train_set.to_csv(\"../data/processed/sampled_Clearsmiles_train.csv\",columns=[\"smiles\"],index=False)"
   ]
  },
  {
   "cell_type": "code",
   "execution_count": 36,
   "metadata": {},
   "outputs": [],
   "source": [
    "test_set=subset.query('SPLIT==\"test\"')\n",
    "test_set.to_csv(\"../data/processed/sampled_Clearsmiles_test.csv\",columns=[\"smiles\"],index=False)"
   ]
  },
  {
   "cell_type": "code",
   "execution_count": 37,
   "metadata": {},
   "outputs": [],
   "source": [
    "test_scaffolds_set=subset.query('SPLIT==\"test_scaffolds\"')\n",
    "test_scaffolds_set.to_csv(\"../data/processed/sampled_Clearsmiles_test_scaffolds.csv\",columns=[\"smiles\"],index=False)"
   ]
  },
  {
   "cell_type": "code",
   "execution_count": 38,
   "metadata": {},
   "outputs": [
    {
     "data": {
      "text/plain": [
       "58"
      ]
     },
     "execution_count": 38,
     "metadata": {},
     "output_type": "execute_result"
    }
   ],
   "source": [
    "train_set[\"nb_token_ClearSMILES\"].max()"
   ]
  },
  {
   "cell_type": "code",
   "execution_count": 39,
   "metadata": {},
   "outputs": [
    {
     "data": {
      "text/plain": [
       "58"
      ]
     },
     "execution_count": 39,
     "metadata": {},
     "output_type": "execute_result"
    }
   ],
   "source": [
    "test_set[\"nb_token_ClearSMILES\"].max()"
   ]
  },
  {
   "cell_type": "code",
   "execution_count": 40,
   "metadata": {},
   "outputs": [],
   "source": [
    "def find_biggest_digits(smiles :str):\n",
    "    \"\"\"\n",
    "    find the biggest digits by iterating throught possible max digit possible and test if corresponding character is found in string\n",
    "    \"\"\"\n",
    "    ### instantiate local variable\n",
    "    max_digit=0 \n",
    "\n",
    "    ### iterate through max digits possible solution\n",
    "    for i in range(1,10):\n",
    "        digit=10-i\n",
    "        if smiles.find(str(digit))!=-1:\n",
    "            max_digit=digit\n",
    "            break\n",
    "        else:\n",
    "            pass\n",
    "    \n",
    "    return max_digit"
   ]
  },
  {
   "cell_type": "code",
   "execution_count": 41,
   "metadata": {},
   "outputs": [],
   "source": [
    "with mp.Pool(NB_CORES) as pool:\n",
    "    df[\"max_digit_canonical\"]= pool.map(find_biggest_digits,df[\"canonical_smiles\"])\n",
    "    pool.close()\n",
    "    pool.join()"
   ]
  },
  {
   "cell_type": "code",
   "execution_count": 42,
   "metadata": {},
   "outputs": [],
   "source": [
    "digit_df= pd.DataFrame(data=[[\"canonical SMILES\",digit] for digit in df[\"max_digit_canonical\"]]+[[\"sampled ClearSMILES\",digit] for digit in df[\"max_digit\"]], columns=[\"molecular string representation\", \"max_digit\"])"
   ]
  },
  {
   "cell_type": "code",
   "execution_count": 43,
   "metadata": {},
   "outputs": [],
   "source": [
    "digit_df=digit_df[digit_df[\"max_digit\"]>0]"
   ]
  },
  {
   "cell_type": "code",
   "execution_count": 44,
   "metadata": {},
   "outputs": [],
   "source": [
    "def get_ring_size(smiles=str(),SMILES_REGEX=re.compile(\"(\\[[^\\]]+]|Br?|Cl?|N|O|S|P|F|I|b|c|n|o|s|p|\\(|\\)|\\.|=|#|-|\\+|\\\\\\\\|\\/|_|:|~|@|\\?|>|\\*|\\$|\\%[0-9]{2}|[0-9])\")):\n",
    "    \"\"\"\n",
    "    use regular regular expression to decompose SMILES to tokens and mesure length of rings. 3 metrics are computed on ring size : min,max, range coef \n",
    "    \"\"\"\n",
    "    ###  instantiate variables \n",
    "    ring_index_dict={}\n",
    "    ring_parameters_list=[]\n",
    "    \n",
    "    ### get token list from SMILES\n",
    "    tokens_list= SMILES_REGEX.findall(smiles)\n",
    "\n",
    "    ### iterate through tokens and indices\n",
    "    for i,token in enumerate(tokens_list):\n",
    "        if token.isdigit():\n",
    "            if token in ring_index_dict:\n",
    "                temp_dict= {\n",
    "                    \"digit\" : token,\n",
    "                    \"matching_digit_distance\" : i-ring_index_dict[token]\n",
    "                }\n",
    "                ring_parameters_list.append(temp_dict)\n",
    "                ring_index_dict.pop(token)\n",
    "            else:\n",
    "                ring_index_dict[token]= i\n",
    "    \n",
    "    ### append 0 if no ring were detected\n",
    "    if not ring_parameters_list:\n",
    "        temp_dict= {\n",
    "                    \"digit\" : 0,\n",
    "                    \"matching_digit_distance\" : 0\n",
    "                }\n",
    "        ring_parameters_list.append(temp_dict)\n",
    "\n",
    "    return ring_parameters_list\n"
   ]
  },
  {
   "cell_type": "code",
   "execution_count": 45,
   "metadata": {},
   "outputs": [],
   "source": [
    "with mp.Pool(NB_CORES) as pool:\n",
    "    results= pool.map(partial(get_ring_size,SMILES_REGEX=SMILES_REGEX),df[\"canonical_smiles\"])\n",
    "    pool.close()\n",
    "    pool.join()"
   ]
  },
  {
   "cell_type": "code",
   "execution_count": 46,
   "metadata": {},
   "outputs": [],
   "source": [
    "results= list(chain.from_iterable(results))"
   ]
  },
  {
   "cell_type": "code",
   "execution_count": 47,
   "metadata": {},
   "outputs": [],
   "source": [
    "ring_df=pd.DataFrame(results)"
   ]
  },
  {
   "cell_type": "code",
   "execution_count": 48,
   "metadata": {},
   "outputs": [],
   "source": [
    "ring_df[\"molecular string representation\"]=\"canonical SMILES\""
   ]
  },
  {
   "cell_type": "code",
   "execution_count": 49,
   "metadata": {},
   "outputs": [
    {
     "data": {
      "text/html": [
       "<div>\n",
       "<style scoped>\n",
       "    .dataframe tbody tr th:only-of-type {\n",
       "        vertical-align: middle;\n",
       "    }\n",
       "\n",
       "    .dataframe tbody tr th {\n",
       "        vertical-align: top;\n",
       "    }\n",
       "\n",
       "    .dataframe thead th {\n",
       "        text-align: right;\n",
       "    }\n",
       "</style>\n",
       "<table border=\"1\" class=\"dataframe\">\n",
       "  <thead>\n",
       "    <tr style=\"text-align: right;\">\n",
       "      <th></th>\n",
       "      <th>digit</th>\n",
       "      <th>matching_digit_distance</th>\n",
       "      <th>molecular string representation</th>\n",
       "    </tr>\n",
       "  </thead>\n",
       "  <tbody>\n",
       "    <tr>\n",
       "      <th>0</th>\n",
       "      <td>1</td>\n",
       "      <td>9</td>\n",
       "      <td>canonical SMILES</td>\n",
       "    </tr>\n",
       "    <tr>\n",
       "      <th>1</th>\n",
       "      <td>1</td>\n",
       "      <td>12</td>\n",
       "      <td>canonical SMILES</td>\n",
       "    </tr>\n",
       "    <tr>\n",
       "      <th>2</th>\n",
       "      <td>2</td>\n",
       "      <td>9</td>\n",
       "      <td>canonical SMILES</td>\n",
       "    </tr>\n",
       "    <tr>\n",
       "      <th>3</th>\n",
       "      <td>1</td>\n",
       "      <td>30</td>\n",
       "      <td>canonical SMILES</td>\n",
       "    </tr>\n",
       "    <tr>\n",
       "      <th>4</th>\n",
       "      <td>2</td>\n",
       "      <td>9</td>\n",
       "      <td>canonical SMILES</td>\n",
       "    </tr>\n",
       "    <tr>\n",
       "      <th>...</th>\n",
       "      <td>...</td>\n",
       "      <td>...</td>\n",
       "      <td>...</td>\n",
       "    </tr>\n",
       "    <tr>\n",
       "      <th>5005774</th>\n",
       "      <td>1</td>\n",
       "      <td>6</td>\n",
       "      <td>canonical SMILES</td>\n",
       "    </tr>\n",
       "    <tr>\n",
       "      <th>5005775</th>\n",
       "      <td>2</td>\n",
       "      <td>6</td>\n",
       "      <td>canonical SMILES</td>\n",
       "    </tr>\n",
       "    <tr>\n",
       "      <th>5005776</th>\n",
       "      <td>1</td>\n",
       "      <td>12</td>\n",
       "      <td>canonical SMILES</td>\n",
       "    </tr>\n",
       "    <tr>\n",
       "      <th>5005777</th>\n",
       "      <td>1</td>\n",
       "      <td>11</td>\n",
       "      <td>canonical SMILES</td>\n",
       "    </tr>\n",
       "    <tr>\n",
       "      <th>5005778</th>\n",
       "      <td>2</td>\n",
       "      <td>7</td>\n",
       "      <td>canonical SMILES</td>\n",
       "    </tr>\n",
       "  </tbody>\n",
       "</table>\n",
       "<p>5005779 rows × 3 columns</p>\n",
       "</div>"
      ],
      "text/plain": [
       "        digit  matching_digit_distance molecular string representation\n",
       "0           1                        9                canonical SMILES\n",
       "1           1                       12                canonical SMILES\n",
       "2           2                        9                canonical SMILES\n",
       "3           1                       30                canonical SMILES\n",
       "4           2                        9                canonical SMILES\n",
       "...       ...                      ...                             ...\n",
       "5005774     1                        6                canonical SMILES\n",
       "5005775     2                        6                canonical SMILES\n",
       "5005776     1                       12                canonical SMILES\n",
       "5005777     1                       11                canonical SMILES\n",
       "5005778     2                        7                canonical SMILES\n",
       "\n",
       "[5005779 rows x 3 columns]"
      ]
     },
     "execution_count": 49,
     "metadata": {},
     "output_type": "execute_result"
    }
   ],
   "source": [
    "ring_df"
   ]
  },
  {
   "cell_type": "code",
   "execution_count": 50,
   "metadata": {},
   "outputs": [],
   "source": [
    "with mp.Pool(mp.cpu_count()) as pool:\n",
    "    results= pool.map(partial(get_ring_size,SMILES_REGEX=SMILES_REGEX),df[\"sampled_ClearSMILES\"])\n",
    "    pool.close()\n",
    "    pool.join()"
   ]
  },
  {
   "cell_type": "code",
   "execution_count": 51,
   "metadata": {},
   "outputs": [],
   "source": [
    "results= list(chain.from_iterable(results))"
   ]
  },
  {
   "cell_type": "code",
   "execution_count": 52,
   "metadata": {},
   "outputs": [],
   "source": [
    "temp_df= pd.DataFrame(results)"
   ]
  },
  {
   "cell_type": "code",
   "execution_count": 53,
   "metadata": {},
   "outputs": [],
   "source": [
    "temp_df[\"molecular string representation\"]=\"sampled ClearSMILES\""
   ]
  },
  {
   "cell_type": "code",
   "execution_count": 54,
   "metadata": {},
   "outputs": [],
   "source": [
    "ring_df= pd.concat([ring_df,temp_df],ignore_index=True)"
   ]
  },
  {
   "cell_type": "code",
   "execution_count": 55,
   "metadata": {},
   "outputs": [
    {
     "data": {
      "text/html": [
       "<div>\n",
       "<style scoped>\n",
       "    .dataframe tbody tr th:only-of-type {\n",
       "        vertical-align: middle;\n",
       "    }\n",
       "\n",
       "    .dataframe tbody tr th {\n",
       "        vertical-align: top;\n",
       "    }\n",
       "\n",
       "    .dataframe thead th {\n",
       "        text-align: right;\n",
       "    }\n",
       "</style>\n",
       "<table border=\"1\" class=\"dataframe\">\n",
       "  <thead>\n",
       "    <tr style=\"text-align: right;\">\n",
       "      <th></th>\n",
       "      <th>digit</th>\n",
       "      <th>matching_digit_distance</th>\n",
       "      <th>molecular string representation</th>\n",
       "    </tr>\n",
       "  </thead>\n",
       "  <tbody>\n",
       "    <tr>\n",
       "      <th>0</th>\n",
       "      <td>1</td>\n",
       "      <td>9</td>\n",
       "      <td>canonical SMILES</td>\n",
       "    </tr>\n",
       "    <tr>\n",
       "      <th>1</th>\n",
       "      <td>1</td>\n",
       "      <td>12</td>\n",
       "      <td>canonical SMILES</td>\n",
       "    </tr>\n",
       "    <tr>\n",
       "      <th>2</th>\n",
       "      <td>2</td>\n",
       "      <td>9</td>\n",
       "      <td>canonical SMILES</td>\n",
       "    </tr>\n",
       "    <tr>\n",
       "      <th>3</th>\n",
       "      <td>1</td>\n",
       "      <td>30</td>\n",
       "      <td>canonical SMILES</td>\n",
       "    </tr>\n",
       "    <tr>\n",
       "      <th>4</th>\n",
       "      <td>2</td>\n",
       "      <td>9</td>\n",
       "      <td>canonical SMILES</td>\n",
       "    </tr>\n",
       "    <tr>\n",
       "      <th>...</th>\n",
       "      <td>...</td>\n",
       "      <td>...</td>\n",
       "      <td>...</td>\n",
       "    </tr>\n",
       "    <tr>\n",
       "      <th>10011553</th>\n",
       "      <td>1</td>\n",
       "      <td>9</td>\n",
       "      <td>sampled ClearSMILES</td>\n",
       "    </tr>\n",
       "    <tr>\n",
       "      <th>10011554</th>\n",
       "      <td>1</td>\n",
       "      <td>7</td>\n",
       "      <td>sampled ClearSMILES</td>\n",
       "    </tr>\n",
       "    <tr>\n",
       "      <th>10011555</th>\n",
       "      <td>2</td>\n",
       "      <td>8</td>\n",
       "      <td>sampled ClearSMILES</td>\n",
       "    </tr>\n",
       "    <tr>\n",
       "      <th>10011556</th>\n",
       "      <td>1</td>\n",
       "      <td>9</td>\n",
       "      <td>sampled ClearSMILES</td>\n",
       "    </tr>\n",
       "    <tr>\n",
       "      <th>10011557</th>\n",
       "      <td>2</td>\n",
       "      <td>10</td>\n",
       "      <td>sampled ClearSMILES</td>\n",
       "    </tr>\n",
       "  </tbody>\n",
       "</table>\n",
       "<p>10011558 rows × 3 columns</p>\n",
       "</div>"
      ],
      "text/plain": [
       "         digit  matching_digit_distance molecular string representation\n",
       "0            1                        9                canonical SMILES\n",
       "1            1                       12                canonical SMILES\n",
       "2            2                        9                canonical SMILES\n",
       "3            1                       30                canonical SMILES\n",
       "4            2                        9                canonical SMILES\n",
       "...        ...                      ...                             ...\n",
       "10011553     1                        9             sampled ClearSMILES\n",
       "10011554     1                        7             sampled ClearSMILES\n",
       "10011555     2                        8             sampled ClearSMILES\n",
       "10011556     1                        9             sampled ClearSMILES\n",
       "10011557     2                       10             sampled ClearSMILES\n",
       "\n",
       "[10011558 rows x 3 columns]"
      ]
     },
     "execution_count": 55,
     "metadata": {},
     "output_type": "execute_result"
    }
   ],
   "source": [
    "ring_df"
   ]
  },
  {
   "cell_type": "code",
   "execution_count": 56,
   "metadata": {},
   "outputs": [],
   "source": [
    "ring_df[\"digit\"]=pd.to_numeric(ring_df[\"digit\"])"
   ]
  },
  {
   "cell_type": "code",
   "execution_count": 57,
   "metadata": {},
   "outputs": [],
   "source": [
    "ring_df=ring_df.query(\"digit>0\")"
   ]
  },
  {
   "cell_type": "code",
   "execution_count": 58,
   "metadata": {},
   "outputs": [
    {
     "name": "stderr",
     "output_type": "stream",
     "text": [
      "/home/etienne-reboul/anaconda3/envs/ClearSMILES/lib/python3.10/site-packages/pandas/core/internals/blocks.py:393: RuntimeWarning: divide by zero encountered in log10\n",
      "  result = func(self.values, **kwargs)\n",
      "/home/etienne-reboul/anaconda3/envs/ClearSMILES/lib/python3.10/site-packages/pandas/core/internals/blocks.py:393: RuntimeWarning: divide by zero encountered in log10\n",
      "  result = func(self.values, **kwargs)\n"
     ]
    }
   ],
   "source": [
    "contingency_table_list=[]\n",
    "max_nb_ring=0\n",
    "index_set= set()\n",
    "column_set= set()\n",
    "for unique_rep in ring_df[\"molecular string representation\"].unique():\n",
    "    subset= ring_df[ring_df[\"molecular string representation\"]==unique_rep]\n",
    "    contingency_table= pd.crosstab(index=subset['digit'], columns=subset[\"matching_digit_distance\"])\n",
    "    index_set.update(set(contingency_table.index))\n",
    "    column_set.update(set(contingency_table.columns))\n",
    "    contingency_table= np.log10(contingency_table)\n",
    "    contingency_table.replace(-np.inf, np.nan, inplace=True)\n",
    "    temp_max= contingency_table.max().max()\n",
    "    if temp_max > max_nb_ring:\n",
    "        max_nb_ring=temp_max\n",
    "    contingency_table_list.append(contingency_table)\n",
    "    "
   ]
  },
  {
   "cell_type": "code",
   "execution_count": 59,
   "metadata": {},
   "outputs": [],
   "source": [
    "sns.set(rc={'figure.figsize':(6,3)})\n",
    "sns.set(font_scale=0.90)"
   ]
  },
  {
   "cell_type": "code",
   "execution_count": 60,
   "metadata": {},
   "outputs": [
    {
     "data": {
      "image/png": "[encoded data removed]",
      "text/plain": [
       "<Figure size 600x400 with 4 Axes>"
      ]
     },
     "metadata": {},
     "output_type": "display_data"
    }
   ],
   "source": [
    "### make the same x and y ticks \n",
    "sorted_xticks= sorted(list(column_set))\n",
    "sorted_yticks= sorted(list(index_set))\n",
    "\n",
    "### set the number of row and columns needed for the plot \n",
    "nb_row= 2\n",
    "nb_col=1\n",
    "\n",
    "# Define the custom colorbar range\n",
    "custom_vmin = 0\n",
    "custom_vmax = np.ceil(max_nb_ring)\n",
    "\n",
    "# Set up subplots\n",
    "fig, axes = plt.subplots(nrows= nb_row, ncols=nb_col, figsize=(6, 2*nb_row))\n",
    "\n",
    "for i,unique_rep in enumerate(ring_df[\"molecular string representation\"].unique()):\n",
    "    subplot_title=unique_rep\n",
    "    \n",
    "    # Use Seaborn to plot the heatmap on the current subplot\n",
    "    sns.heatmap(contingency_table_list[i], \n",
    "                annot=False, \n",
    "                cmap='viridis',\n",
    "                ax=axes[i], \n",
    "                cbar=True,\n",
    "                xticklabels= sorted_xticks,\n",
    "                yticklabels=sorted_yticks,\n",
    "                vmin=custom_vmin, \n",
    "                vmax=custom_vmax,\n",
    "                annot_kws={'size': 5},\n",
    "                cbar_kws={'label': 'number of digits pairs\\n (log10)'}\n",
    "                )\n",
    "    \n",
    "    \n",
    "    # Set titles and labels\n",
    "    axes[i].set_facecolor(\"white\")\n",
    "    axes[i].set_title(subplot_title)\n",
    "    axes[i].set_xlabel('number of tokens between two matching digits',fontsize=8)\n",
    "    axes[i].tick_params(axis=\"x\", labelsize=6)\n",
    "    axes[i].set_ylabel('digit in pair',fontsize=9)\n",
    "    axes[i].tick_params(axis=\"y\", labelsize=6)\n",
    "    \n",
    "    axes[i].figure.axes[-1].yaxis.label.set_size(7)\n",
    "\n",
    "subplot_labels = [\"(a)\",\"(b)\"]\n",
    "for ax, label in zip(axes.ravel(), subplot_labels):\n",
    "    ax.text(-0.1, 1.1, label, transform=ax.transAxes, fontsize=10, fontweight=\"bold\")\n",
    "\n",
    "\n",
    "\n",
    "# Adjust layout\n",
    "plt.tight_layout()\n",
    "plt.savefig(\"../../../Pictures/digit_contingency_table.svg\", format=\"svg\")\n",
    "plt.show()"
   ]
  },
  {
   "cell_type": "code",
   "execution_count": 61,
   "metadata": {},
   "outputs": [
    {
     "name": "stderr",
     "output_type": "stream",
     "text": [
      "/tmp/ipykernel_6736/3135054572.py:1: SettingWithCopyWarning: \n",
      "A value is trying to be set on a copy of a slice from a DataFrame.\n",
      "Try using .loc[row_indexer,col_indexer] = value instead\n",
      "\n",
      "See the caveats in the documentation: https://pandas.pydata.org/pandas-docs/stable/user_guide/indexing.html#returning-a-view-versus-a-copy\n",
      "  ring_df[\"mol_rep\"]=ring_df[\"molecular string representation\"]\n"
     ]
    }
   ],
   "source": [
    "ring_df[\"mol_rep\"]=ring_df[\"molecular string representation\"]"
   ]
  },
  {
   "cell_type": "code",
   "execution_count": 62,
   "metadata": {},
   "outputs": [
    {
     "data": {
      "text/plain": [
       "11962.128205128205"
      ]
     },
     "execution_count": 62,
     "metadata": {},
     "output_type": "execute_result"
    }
   ],
   "source": [
    "len(ring_df.query('matching_digit_distance>25 & mol_rep==\"canonical SMILES\"'))/len(ring_df.query('matching_digit_distance>25 & mol_rep==\"sampled ClearSMILES\"'))"
   ]
  },
  {
   "cell_type": "code",
   "execution_count": null,
   "metadata": {},
   "outputs": [],
   "source": []
  },
  {
   "cell_type": "code",
   "execution_count": 63,
   "metadata": {},
   "outputs": [
    {
     "data": {
      "text/plain": [
       "99.72167755485137"
      ]
     },
     "execution_count": 63,
     "metadata": {},
     "output_type": "execute_result"
    }
   ],
   "source": [
    "(len(df)-len(df.query('max_digit>2')))/len(df)*100"
   ]
  },
  {
   "cell_type": "code",
   "execution_count": 64,
   "metadata": {},
   "outputs": [],
   "source": [
    "def find_nb_branches(smiles=str()):\n",
    "    return smiles.count(\"(\")"
   ]
  },
  {
   "cell_type": "code",
   "execution_count": 65,
   "metadata": {},
   "outputs": [],
   "source": [
    "with mp.Pool(mp.cpu_count()) as pool:\n",
    "    df[\"regular_nb_branches\"]=pool.map(find_nb_branches,df[\"canonical_smiles\"])\n",
    "    pool.close()\n",
    "    pool.join()"
   ]
  },
  {
   "cell_type": "code",
   "execution_count": 66,
   "metadata": {},
   "outputs": [],
   "source": [
    "with mp.Pool(mp.cpu_count()) as pool:\n",
    "    df[\"ClearSMILES_nb_branches\"]=pool.map(find_nb_branches,df[\"sampled_ClearSMILES\"])\n",
    "    pool.close()\n",
    "    pool.join()"
   ]
  },
  {
   "cell_type": "code",
   "execution_count": 67,
   "metadata": {},
   "outputs": [],
   "source": [
    "df['delta_branches']= df[\"ClearSMILES_nb_branches\"]- df[\"regular_nb_branches\"]"
   ]
  },
  {
   "cell_type": "code",
   "execution_count": 68,
   "metadata": {},
   "outputs": [],
   "source": [
    "delta_df=df[\"delta_branches\"].value_counts(normalize=True)"
   ]
  },
  {
   "cell_type": "code",
   "execution_count": 69,
   "metadata": {},
   "outputs": [],
   "source": [
    "delta_df.sort_index(inplace=True)\n",
    "delta_df= delta_df*100"
   ]
  },
  {
   "cell_type": "code",
   "execution_count": 70,
   "metadata": {},
   "outputs": [
    {
     "data": {
      "text/plain": [
       "delta_branches\n",
       "-3     0.003356\n",
       "-2     0.459018\n",
       "-1    11.723823\n",
       " 0    74.900385\n",
       " 1    11.690162\n",
       " 2     1.183141\n",
       " 3     0.039495\n",
       " 4     0.000620\n",
       "Name: proportion, dtype: float64"
      ]
     },
     "execution_count": 70,
     "metadata": {},
     "output_type": "execute_result"
    }
   ],
   "source": [
    "delta_df"
   ]
  },
  {
   "cell_type": "code",
   "execution_count": 71,
   "metadata": {},
   "outputs": [],
   "source": [
    "df_branches= pd.DataFrame(data=[[\"canonical SMILES\",nb_branches] for nb_branches in df[\"regular_nb_branches\"]]+[[\"sampled ClearSMILES\",nb_branches] \n",
    "                                                                                                                for nb_branches in df[\"ClearSMILES_nb_branches\"]],\n",
    "                                                                                                                columns=[\"molecular string representation\",\"nb_branches\"])"
   ]
  },
  {
   "cell_type": "code",
   "execution_count": 72,
   "metadata": {},
   "outputs": [
    {
     "data": {
      "text/html": [
       "<div>\n",
       "<style scoped>\n",
       "    .dataframe tbody tr th:only-of-type {\n",
       "        vertical-align: middle;\n",
       "    }\n",
       "\n",
       "    .dataframe tbody tr th {\n",
       "        vertical-align: top;\n",
       "    }\n",
       "\n",
       "    .dataframe thead th {\n",
       "        text-align: right;\n",
       "    }\n",
       "</style>\n",
       "<table border=\"1\" class=\"dataframe\">\n",
       "  <thead>\n",
       "    <tr style=\"text-align: right;\">\n",
       "      <th></th>\n",
       "      <th>molecular string representation</th>\n",
       "      <th>nb_branches</th>\n",
       "    </tr>\n",
       "  </thead>\n",
       "  <tbody>\n",
       "    <tr>\n",
       "      <th>0</th>\n",
       "      <td>canonical SMILES</td>\n",
       "      <td>5</td>\n",
       "    </tr>\n",
       "    <tr>\n",
       "      <th>1</th>\n",
       "      <td>canonical SMILES</td>\n",
       "      <td>4</td>\n",
       "    </tr>\n",
       "    <tr>\n",
       "      <th>2</th>\n",
       "      <td>canonical SMILES</td>\n",
       "      <td>4</td>\n",
       "    </tr>\n",
       "    <tr>\n",
       "      <th>3</th>\n",
       "      <td>canonical SMILES</td>\n",
       "      <td>4</td>\n",
       "    </tr>\n",
       "    <tr>\n",
       "      <th>4</th>\n",
       "      <td>canonical SMILES</td>\n",
       "      <td>5</td>\n",
       "    </tr>\n",
       "    <tr>\n",
       "      <th>...</th>\n",
       "      <td>...</td>\n",
       "      <td>...</td>\n",
       "    </tr>\n",
       "    <tr>\n",
       "      <th>3873919</th>\n",
       "      <td>sampled ClearSMILES</td>\n",
       "      <td>3</td>\n",
       "    </tr>\n",
       "    <tr>\n",
       "      <th>3873920</th>\n",
       "      <td>sampled ClearSMILES</td>\n",
       "      <td>4</td>\n",
       "    </tr>\n",
       "    <tr>\n",
       "      <th>3873921</th>\n",
       "      <td>sampled ClearSMILES</td>\n",
       "      <td>3</td>\n",
       "    </tr>\n",
       "    <tr>\n",
       "      <th>3873922</th>\n",
       "      <td>sampled ClearSMILES</td>\n",
       "      <td>2</td>\n",
       "    </tr>\n",
       "    <tr>\n",
       "      <th>3873923</th>\n",
       "      <td>sampled ClearSMILES</td>\n",
       "      <td>2</td>\n",
       "    </tr>\n",
       "  </tbody>\n",
       "</table>\n",
       "<p>3873924 rows × 2 columns</p>\n",
       "</div>"
      ],
      "text/plain": [
       "        molecular string representation  nb_branches\n",
       "0                      canonical SMILES            5\n",
       "1                      canonical SMILES            4\n",
       "2                      canonical SMILES            4\n",
       "3                      canonical SMILES            4\n",
       "4                      canonical SMILES            5\n",
       "...                                 ...          ...\n",
       "3873919             sampled ClearSMILES            3\n",
       "3873920             sampled ClearSMILES            4\n",
       "3873921             sampled ClearSMILES            3\n",
       "3873922             sampled ClearSMILES            2\n",
       "3873923             sampled ClearSMILES            2\n",
       "\n",
       "[3873924 rows x 2 columns]"
      ]
     },
     "execution_count": 72,
     "metadata": {},
     "output_type": "execute_result"
    }
   ],
   "source": [
    "df_branches"
   ]
  },
  {
   "cell_type": "code",
   "execution_count": 73,
   "metadata": {},
   "outputs": [],
   "source": [
    "def compute_branch_size(smiles : str , data_augmentation : str, smiles_regex :re.compile) -> list[dict]:\n",
    "    \"\"\"\n",
    "    use regular regular expression to decompose SMILES to tokens and mesure length of branches and their depth \n",
    "    input :\n",
    "    smiles (string): a valid SMILES string \n",
    "    SMILES_REGEX (compiled regex):  the compiled pattern used to tokenize the SMILES \n",
    "    output : \n",
    "    branch_results (list of dicts): the list contain a dict per branch with \n",
    "    \"\"\"\n",
    "    # declare local variable\n",
    "    branch_begin_index_list=[]\n",
    "    branch_results=[]\n",
    "\n",
    "    # get token list from SMILES\n",
    "    tokens_list= smiles_regex.findall(smiles)\n",
    "\n",
    "    # iterate through tokens\n",
    "    for i,token in enumerate(tokens_list):\n",
    "        if token==\"(\":\n",
    "            branch_begin_index_list.append(i)\n",
    "        elif token==\")\":\n",
    "            temp_dict= {\n",
    "                \"smiles\" : smiles,\n",
    "                \"molecular string representation\" : data_augmentation,\n",
    "                \"branches length\" : i-branch_begin_index_list[-1]\n",
    "            }\n",
    "            branch_results.append(temp_dict)\n",
    "            branch_begin_index_list.pop()\n",
    "\n",
    "    return branch_results\n",
    "    "
   ]
  },
  {
   "cell_type": "code",
   "execution_count": 74,
   "metadata": {},
   "outputs": [
    {
     "data": {
      "text/html": [
       "<div>\n",
       "<style scoped>\n",
       "    .dataframe tbody tr th:only-of-type {\n",
       "        vertical-align: middle;\n",
       "    }\n",
       "\n",
       "    .dataframe tbody tr th {\n",
       "        vertical-align: top;\n",
       "    }\n",
       "\n",
       "    .dataframe thead th {\n",
       "        text-align: right;\n",
       "    }\n",
       "</style>\n",
       "<table border=\"1\" class=\"dataframe\">\n",
       "  <thead>\n",
       "    <tr style=\"text-align: right;\">\n",
       "      <th></th>\n",
       "      <th>nb_random</th>\n",
       "      <th>max_digit</th>\n",
       "      <th>lowest_mem_score</th>\n",
       "      <th>nb_unique_random_smiles</th>\n",
       "      <th>nb_lowest_max_digit_smiles</th>\n",
       "      <th>nb_equivalent_solution</th>\n",
       "      <th>ClearSMILES_set</th>\n",
       "      <th>random_gen_time</th>\n",
       "      <th>min_max_digit_time</th>\n",
       "      <th>mem_map_time</th>\n",
       "      <th>...</th>\n",
       "      <th>SMILES</th>\n",
       "      <th>SPLIT</th>\n",
       "      <th>canonical_smiles</th>\n",
       "      <th>sampled_ClearSMILES</th>\n",
       "      <th>nb_token_regular</th>\n",
       "      <th>nb_token_ClearSMILES</th>\n",
       "      <th>max_digit_canonical</th>\n",
       "      <th>regular_nb_branches</th>\n",
       "      <th>ClearSMILES_nb_branches</th>\n",
       "      <th>delta_branches</th>\n",
       "    </tr>\n",
       "  </thead>\n",
       "  <tbody>\n",
       "    <tr>\n",
       "      <th>0</th>\n",
       "      <td>100000</td>\n",
       "      <td>1</td>\n",
       "      <td>0.906977</td>\n",
       "      <td>7614</td>\n",
       "      <td>5025</td>\n",
       "      <td>2</td>\n",
       "      <td>FC1=CC=C(F)C=C1NS(=O)(=O)C1=CC=C(F)C(F)=C1F_FC...</td>\n",
       "      <td>6.809037</td>\n",
       "      <td>0.023423</td>\n",
       "      <td>0.175887</td>\n",
       "      <td>...</td>\n",
       "      <td>O=S(=O)(Nc1cc(F)ccc1F)c1ccc(F)c(F)c1F</td>\n",
       "      <td>train</td>\n",
       "      <td>O=S(=O)(Nc1cc(F)ccc1F)c1ccc(F)c(F)c1F</td>\n",
       "      <td>FC1=CC=C(F)C=C1NS(=O)(=O)C1=CC=C(F)C(F)=C1F</td>\n",
       "      <td>37</td>\n",
       "      <td>43</td>\n",
       "      <td>1</td>\n",
       "      <td>5</td>\n",
       "      <td>5</td>\n",
       "      <td>0</td>\n",
       "    </tr>\n",
       "    <tr>\n",
       "      <th>1</th>\n",
       "      <td>100000</td>\n",
       "      <td>1</td>\n",
       "      <td>0.829268</td>\n",
       "      <td>2544</td>\n",
       "      <td>1656</td>\n",
       "      <td>2</td>\n",
       "      <td>FC1=CC=C(F)C=C1NS(=O)(=O)C1C=CC=C(C=1)C#N_N#CC...</td>\n",
       "      <td>6.461382</td>\n",
       "      <td>0.007614</td>\n",
       "      <td>0.052121</td>\n",
       "      <td>...</td>\n",
       "      <td>N#Cc1cccc(S(=O)(=O)Nc2cc(F)ccc2F)c1</td>\n",
       "      <td>test</td>\n",
       "      <td>N#Cc1cccc(S(=O)(=O)Nc2cc(F)ccc2F)c1</td>\n",
       "      <td>FC1=CC=C(F)C=C1NS(=O)(=O)C1C=CC=C(C=1)C#N</td>\n",
       "      <td>35</td>\n",
       "      <td>41</td>\n",
       "      <td>2</td>\n",
       "      <td>4</td>\n",
       "      <td>4</td>\n",
       "      <td>0</td>\n",
       "    </tr>\n",
       "    <tr>\n",
       "      <th>2</th>\n",
       "      <td>100000</td>\n",
       "      <td>1</td>\n",
       "      <td>0.853659</td>\n",
       "      <td>2544</td>\n",
       "      <td>1656</td>\n",
       "      <td>2</td>\n",
       "      <td>N#CC1=CC=C(C=C1)S(=O)(=O)NC1=CC(F)=CC=C1F_FC1=...</td>\n",
       "      <td>6.471750</td>\n",
       "      <td>0.007562</td>\n",
       "      <td>0.052288</td>\n",
       "      <td>...</td>\n",
       "      <td>N#Cc1ccc(S(=O)(=O)Nc2cc(F)ccc2F)cc1</td>\n",
       "      <td>train</td>\n",
       "      <td>N#Cc1ccc(S(=O)(=O)Nc2cc(F)ccc2F)cc1</td>\n",
       "      <td>N#CC1=CC=C(C=C1)S(=O)(=O)NC1=CC(F)=CC=C1F</td>\n",
       "      <td>35</td>\n",
       "      <td>41</td>\n",
       "      <td>2</td>\n",
       "      <td>4</td>\n",
       "      <td>4</td>\n",
       "      <td>0</td>\n",
       "    </tr>\n",
       "    <tr>\n",
       "      <th>3</th>\n",
       "      <td>100000</td>\n",
       "      <td>2</td>\n",
       "      <td>0.955556</td>\n",
       "      <td>4820</td>\n",
       "      <td>3614</td>\n",
       "      <td>1</td>\n",
       "      <td>O1CCCOC2C1=CC=C(C=2)S(=O)(=O)NC1=CC(F)=CC=C1F</td>\n",
       "      <td>7.824565</td>\n",
       "      <td>0.013055</td>\n",
       "      <td>0.124897</td>\n",
       "      <td>...</td>\n",
       "      <td>O=S(=O)(Nc1cc(F)ccc1F)c1ccc2c(c1)OCCCO2</td>\n",
       "      <td>train</td>\n",
       "      <td>O=S(=O)(Nc1cc(F)ccc1F)c1ccc2c(c1)OCCCO2</td>\n",
       "      <td>O1CCCOC2C1=CC=C(C=2)S(=O)(=O)NC1=CC(F)=CC=C1F</td>\n",
       "      <td>39</td>\n",
       "      <td>45</td>\n",
       "      <td>2</td>\n",
       "      <td>4</td>\n",
       "      <td>4</td>\n",
       "      <td>0</td>\n",
       "    </tr>\n",
       "    <tr>\n",
       "      <th>4</th>\n",
       "      <td>100000</td>\n",
       "      <td>1</td>\n",
       "      <td>0.857143</td>\n",
       "      <td>4463</td>\n",
       "      <td>2879</td>\n",
       "      <td>2</td>\n",
       "      <td>COC1=CC=C(OC)C=C1S(=O)(=O)NC1=CC(F)=CC=C1F_FC1...</td>\n",
       "      <td>6.936087</td>\n",
       "      <td>0.013249</td>\n",
       "      <td>0.097328</td>\n",
       "      <td>...</td>\n",
       "      <td>COc1ccc(OC)c(S(=O)(=O)Nc2cc(F)ccc2F)c1</td>\n",
       "      <td>train</td>\n",
       "      <td>COc1ccc(OC)c(S(=O)(=O)Nc2cc(F)ccc2F)c1</td>\n",
       "      <td>COC1=CC=C(OC)C=C1S(=O)(=O)NC1=CC(F)=CC=C1F</td>\n",
       "      <td>38</td>\n",
       "      <td>42</td>\n",
       "      <td>2</td>\n",
       "      <td>5</td>\n",
       "      <td>4</td>\n",
       "      <td>-1</td>\n",
       "    </tr>\n",
       "    <tr>\n",
       "      <th>...</th>\n",
       "      <td>...</td>\n",
       "      <td>...</td>\n",
       "      <td>...</td>\n",
       "      <td>...</td>\n",
       "      <td>...</td>\n",
       "      <td>...</td>\n",
       "      <td>...</td>\n",
       "      <td>...</td>\n",
       "      <td>...</td>\n",
       "      <td>...</td>\n",
       "      <td>...</td>\n",
       "      <td>...</td>\n",
       "      <td>...</td>\n",
       "      <td>...</td>\n",
       "      <td>...</td>\n",
       "      <td>...</td>\n",
       "      <td>...</td>\n",
       "      <td>...</td>\n",
       "      <td>...</td>\n",
       "      <td>...</td>\n",
       "      <td>...</td>\n",
       "    </tr>\n",
       "    <tr>\n",
       "      <th>1936957</th>\n",
       "      <td>100000</td>\n",
       "      <td>2</td>\n",
       "      <td>0.875000</td>\n",
       "      <td>2176</td>\n",
       "      <td>1688</td>\n",
       "      <td>1</td>\n",
       "      <td>C1CCCN2C1COC(C2)CNC(=O)NCC1C=CC=C(C=1)OC</td>\n",
       "      <td>16.224227</td>\n",
       "      <td>0.010762</td>\n",
       "      <td>0.102354</td>\n",
       "      <td>...</td>\n",
       "      <td>COc1cccc(CNC(=O)NCC2CN3CCCCC3CO2)c1</td>\n",
       "      <td>train</td>\n",
       "      <td>COc1cccc(CNC(=O)NCC2CN3CCCCC3CO2)c1</td>\n",
       "      <td>C1CCCN2C1COC(C2)CNC(=O)NCC1C=CC=C(C=1)OC</td>\n",
       "      <td>35</td>\n",
       "      <td>40</td>\n",
       "      <td>3</td>\n",
       "      <td>2</td>\n",
       "      <td>3</td>\n",
       "      <td>1</td>\n",
       "    </tr>\n",
       "    <tr>\n",
       "      <th>1936958</th>\n",
       "      <td>100000</td>\n",
       "      <td>2</td>\n",
       "      <td>0.952381</td>\n",
       "      <td>4112</td>\n",
       "      <td>3256</td>\n",
       "      <td>3</td>\n",
       "      <td>C1CCCN2C1COC(C2)CNC(=O)NCC1C=C(F)C(C)=CC=1_C1C...</td>\n",
       "      <td>15.889686</td>\n",
       "      <td>0.020518</td>\n",
       "      <td>0.196105</td>\n",
       "      <td>...</td>\n",
       "      <td>Cc1ccc(CNC(=O)NCC2CN3CCCCC3CO2)cc1F</td>\n",
       "      <td>train</td>\n",
       "      <td>Cc1ccc(CNC(=O)NCC2CN3CCCCC3CO2)cc1F</td>\n",
       "      <td>C1CCCN2C1COC(C2)CNC(=O)NCC1C=C(F)C(C)=CC=1</td>\n",
       "      <td>35</td>\n",
       "      <td>42</td>\n",
       "      <td>3</td>\n",
       "      <td>2</td>\n",
       "      <td>4</td>\n",
       "      <td>2</td>\n",
       "    </tr>\n",
       "    <tr>\n",
       "      <th>1936959</th>\n",
       "      <td>100000</td>\n",
       "      <td>2</td>\n",
       "      <td>0.875000</td>\n",
       "      <td>2080</td>\n",
       "      <td>1360</td>\n",
       "      <td>1</td>\n",
       "      <td>C1CCCN2C1COC(C2)CNC(=O)NC1=NN=C(S1)C1CC1</td>\n",
       "      <td>16.651164</td>\n",
       "      <td>0.009991</td>\n",
       "      <td>0.081478</td>\n",
       "      <td>...</td>\n",
       "      <td>O=C(NCC1CN2CCCCC2CO1)Nc1nnc(C2CC2)s1</td>\n",
       "      <td>train</td>\n",
       "      <td>O=C(NCC1CN2CCCCC2CO1)Nc1nnc(C2CC2)s1</td>\n",
       "      <td>C1CCCN2C1COC(C2)CNC(=O)NC1=NN=C(S1)C1CC1</td>\n",
       "      <td>36</td>\n",
       "      <td>40</td>\n",
       "      <td>2</td>\n",
       "      <td>2</td>\n",
       "      <td>3</td>\n",
       "      <td>1</td>\n",
       "    </tr>\n",
       "    <tr>\n",
       "      <th>1936960</th>\n",
       "      <td>100000</td>\n",
       "      <td>1</td>\n",
       "      <td>0.790698</td>\n",
       "      <td>2112</td>\n",
       "      <td>736</td>\n",
       "      <td>8</td>\n",
       "      <td>C1C=CC=CC=1SCCNC(=O)C1C=NN(C=1C)C1C=CN=CC=1_C1...</td>\n",
       "      <td>15.300178</td>\n",
       "      <td>0.010769</td>\n",
       "      <td>0.045422</td>\n",
       "      <td>...</td>\n",
       "      <td>Cc1c(C(=O)NCCSc2ccccc2)cnn1-c1ccncc1</td>\n",
       "      <td>test_scaffolds</td>\n",
       "      <td>Cc1c(C(=O)NCCSc2ccccc2)cnn1-c1ccncc1</td>\n",
       "      <td>C1C=CC=CC=1SCCNC(=O)C1C=NN(C=1C)C1C=CN=CC=1</td>\n",
       "      <td>36</td>\n",
       "      <td>43</td>\n",
       "      <td>2</td>\n",
       "      <td>2</td>\n",
       "      <td>2</td>\n",
       "      <td>0</td>\n",
       "    </tr>\n",
       "    <tr>\n",
       "      <th>1936961</th>\n",
       "      <td>100000</td>\n",
       "      <td>2</td>\n",
       "      <td>0.930233</td>\n",
       "      <td>3528</td>\n",
       "      <td>1944</td>\n",
       "      <td>1</td>\n",
       "      <td>C1CCCN2C1COC(C2)CNC(=O)NC1=CC=CC2C1=NC=CC=2</td>\n",
       "      <td>16.399632</td>\n",
       "      <td>0.016547</td>\n",
       "      <td>0.124687</td>\n",
       "      <td>...</td>\n",
       "      <td>O=C(NCC1CN2CCCCC2CO1)Nc1cccc2cccnc12</td>\n",
       "      <td>train</td>\n",
       "      <td>O=C(NCC1CN2CCCCC2CO1)Nc1cccc2cccnc12</td>\n",
       "      <td>C1CCCN2C1COC(C2)CNC(=O)NC1=CC=CC2C1=NC=CC=2</td>\n",
       "      <td>36</td>\n",
       "      <td>43</td>\n",
       "      <td>2</td>\n",
       "      <td>1</td>\n",
       "      <td>2</td>\n",
       "      <td>1</td>\n",
       "    </tr>\n",
       "  </tbody>\n",
       "</table>\n",
       "<p>1936962 rows × 21 columns</p>\n",
       "</div>"
      ],
      "text/plain": [
       "         nb_random  max_digit  lowest_mem_score  nb_unique_random_smiles  \\\n",
       "0           100000          1          0.906977                     7614   \n",
       "1           100000          1          0.829268                     2544   \n",
       "2           100000          1          0.853659                     2544   \n",
       "3           100000          2          0.955556                     4820   \n",
       "4           100000          1          0.857143                     4463   \n",
       "...            ...        ...               ...                      ...   \n",
       "1936957     100000          2          0.875000                     2176   \n",
       "1936958     100000          2          0.952381                     4112   \n",
       "1936959     100000          2          0.875000                     2080   \n",
       "1936960     100000          1          0.790698                     2112   \n",
       "1936961     100000          2          0.930233                     3528   \n",
       "\n",
       "         nb_lowest_max_digit_smiles  nb_equivalent_solution  \\\n",
       "0                              5025                       2   \n",
       "1                              1656                       2   \n",
       "2                              1656                       2   \n",
       "3                              3614                       1   \n",
       "4                              2879                       2   \n",
       "...                             ...                     ...   \n",
       "1936957                        1688                       1   \n",
       "1936958                        3256                       3   \n",
       "1936959                        1360                       1   \n",
       "1936960                         736                       8   \n",
       "1936961                        1944                       1   \n",
       "\n",
       "                                           ClearSMILES_set  random_gen_time  \\\n",
       "0        FC1=CC=C(F)C=C1NS(=O)(=O)C1=CC=C(F)C(F)=C1F_FC...         6.809037   \n",
       "1        FC1=CC=C(F)C=C1NS(=O)(=O)C1C=CC=C(C=1)C#N_N#CC...         6.461382   \n",
       "2        N#CC1=CC=C(C=C1)S(=O)(=O)NC1=CC(F)=CC=C1F_FC1=...         6.471750   \n",
       "3            O1CCCOC2C1=CC=C(C=2)S(=O)(=O)NC1=CC(F)=CC=C1F         7.824565   \n",
       "4        COC1=CC=C(OC)C=C1S(=O)(=O)NC1=CC(F)=CC=C1F_FC1...         6.936087   \n",
       "...                                                    ...              ...   \n",
       "1936957           C1CCCN2C1COC(C2)CNC(=O)NCC1C=CC=C(C=1)OC        16.224227   \n",
       "1936958  C1CCCN2C1COC(C2)CNC(=O)NCC1C=C(F)C(C)=CC=1_C1C...        15.889686   \n",
       "1936959           C1CCCN2C1COC(C2)CNC(=O)NC1=NN=C(S1)C1CC1        16.651164   \n",
       "1936960  C1C=CC=CC=1SCCNC(=O)C1C=NN(C=1C)C1C=CN=CC=1_C1...        15.300178   \n",
       "1936961        C1CCCN2C1COC(C2)CNC(=O)NC1=CC=CC2C1=NC=CC=2        16.399632   \n",
       "\n",
       "         min_max_digit_time  mem_map_time  ...  \\\n",
       "0                  0.023423      0.175887  ...   \n",
       "1                  0.007614      0.052121  ...   \n",
       "2                  0.007562      0.052288  ...   \n",
       "3                  0.013055      0.124897  ...   \n",
       "4                  0.013249      0.097328  ...   \n",
       "...                     ...           ...  ...   \n",
       "1936957            0.010762      0.102354  ...   \n",
       "1936958            0.020518      0.196105  ...   \n",
       "1936959            0.009991      0.081478  ...   \n",
       "1936960            0.010769      0.045422  ...   \n",
       "1936961            0.016547      0.124687  ...   \n",
       "\n",
       "                                          SMILES           SPLIT  \\\n",
       "0          O=S(=O)(Nc1cc(F)ccc1F)c1ccc(F)c(F)c1F           train   \n",
       "1            N#Cc1cccc(S(=O)(=O)Nc2cc(F)ccc2F)c1            test   \n",
       "2            N#Cc1ccc(S(=O)(=O)Nc2cc(F)ccc2F)cc1           train   \n",
       "3        O=S(=O)(Nc1cc(F)ccc1F)c1ccc2c(c1)OCCCO2           train   \n",
       "4         COc1ccc(OC)c(S(=O)(=O)Nc2cc(F)ccc2F)c1           train   \n",
       "...                                          ...             ...   \n",
       "1936957      COc1cccc(CNC(=O)NCC2CN3CCCCC3CO2)c1           train   \n",
       "1936958      Cc1ccc(CNC(=O)NCC2CN3CCCCC3CO2)cc1F           train   \n",
       "1936959     O=C(NCC1CN2CCCCC2CO1)Nc1nnc(C2CC2)s1           train   \n",
       "1936960     Cc1c(C(=O)NCCSc2ccccc2)cnn1-c1ccncc1  test_scaffolds   \n",
       "1936961     O=C(NCC1CN2CCCCC2CO1)Nc1cccc2cccnc12           train   \n",
       "\n",
       "                                canonical_smiles  \\\n",
       "0          O=S(=O)(Nc1cc(F)ccc1F)c1ccc(F)c(F)c1F   \n",
       "1            N#Cc1cccc(S(=O)(=O)Nc2cc(F)ccc2F)c1   \n",
       "2            N#Cc1ccc(S(=O)(=O)Nc2cc(F)ccc2F)cc1   \n",
       "3        O=S(=O)(Nc1cc(F)ccc1F)c1ccc2c(c1)OCCCO2   \n",
       "4         COc1ccc(OC)c(S(=O)(=O)Nc2cc(F)ccc2F)c1   \n",
       "...                                          ...   \n",
       "1936957      COc1cccc(CNC(=O)NCC2CN3CCCCC3CO2)c1   \n",
       "1936958      Cc1ccc(CNC(=O)NCC2CN3CCCCC3CO2)cc1F   \n",
       "1936959     O=C(NCC1CN2CCCCC2CO1)Nc1nnc(C2CC2)s1   \n",
       "1936960     Cc1c(C(=O)NCCSc2ccccc2)cnn1-c1ccncc1   \n",
       "1936961     O=C(NCC1CN2CCCCC2CO1)Nc1cccc2cccnc12   \n",
       "\n",
       "                                   sampled_ClearSMILES nb_token_regular  \\\n",
       "0          FC1=CC=C(F)C=C1NS(=O)(=O)C1=CC=C(F)C(F)=C1F               37   \n",
       "1            FC1=CC=C(F)C=C1NS(=O)(=O)C1C=CC=C(C=1)C#N               35   \n",
       "2            N#CC1=CC=C(C=C1)S(=O)(=O)NC1=CC(F)=CC=C1F               35   \n",
       "3        O1CCCOC2C1=CC=C(C=2)S(=O)(=O)NC1=CC(F)=CC=C1F               39   \n",
       "4           COC1=CC=C(OC)C=C1S(=O)(=O)NC1=CC(F)=CC=C1F               38   \n",
       "...                                                ...              ...   \n",
       "1936957       C1CCCN2C1COC(C2)CNC(=O)NCC1C=CC=C(C=1)OC               35   \n",
       "1936958     C1CCCN2C1COC(C2)CNC(=O)NCC1C=C(F)C(C)=CC=1               35   \n",
       "1936959       C1CCCN2C1COC(C2)CNC(=O)NC1=NN=C(S1)C1CC1               36   \n",
       "1936960    C1C=CC=CC=1SCCNC(=O)C1C=NN(C=1C)C1C=CN=CC=1               36   \n",
       "1936961    C1CCCN2C1COC(C2)CNC(=O)NC1=CC=CC2C1=NC=CC=2               36   \n",
       "\n",
       "         nb_token_ClearSMILES  max_digit_canonical  regular_nb_branches  \\\n",
       "0                          43                    1                    5   \n",
       "1                          41                    2                    4   \n",
       "2                          41                    2                    4   \n",
       "3                          45                    2                    4   \n",
       "4                          42                    2                    5   \n",
       "...                       ...                  ...                  ...   \n",
       "1936957                    40                    3                    2   \n",
       "1936958                    42                    3                    2   \n",
       "1936959                    40                    2                    2   \n",
       "1936960                    43                    2                    2   \n",
       "1936961                    43                    2                    1   \n",
       "\n",
       "         ClearSMILES_nb_branches  delta_branches  \n",
       "0                              5               0  \n",
       "1                              4               0  \n",
       "2                              4               0  \n",
       "3                              4               0  \n",
       "4                              4              -1  \n",
       "...                          ...             ...  \n",
       "1936957                        3               1  \n",
       "1936958                        4               2  \n",
       "1936959                        3               1  \n",
       "1936960                        2               0  \n",
       "1936961                        2               1  \n",
       "\n",
       "[1936962 rows x 21 columns]"
      ]
     },
     "execution_count": 74,
     "metadata": {},
     "output_type": "execute_result"
    }
   ],
   "source": [
    "df"
   ]
  },
  {
   "cell_type": "code",
   "execution_count": 75,
   "metadata": {},
   "outputs": [],
   "source": [
    "# prepare partial function for data multiprocessing  of branch size computation\n",
    "branch_compute= partial(compute_branch_size,smiles_regex= SMILES_REGEX,data_augmentation=\"canonical SMILES\")\n",
    "\n",
    "# execute multprocessing\n",
    "with mp.Pool(NB_CORES) as pool:\n",
    "    results= pool.map(branch_compute,df[\"canonical_smiles\"])\n",
    "\n",
    "# repeat process but for clearsmiles\n",
    "branch_compute= partial(compute_branch_size,smiles_regex= SMILES_REGEX,data_augmentation=\"sampled ClearSMILES\")\n",
    "\n",
    "# execute multprocessing\n",
    "with mp.Pool(NB_CORES) as pool:\n",
    "    results.extend(pool.map(branch_compute,df[\"sampled_ClearSMILES\"])) \n"
   ]
  },
  {
   "cell_type": "code",
   "execution_count": 76,
   "metadata": {},
   "outputs": [],
   "source": [
    "branch_size_df= pd.DataFrame(data=chain.from_iterable(results))\n"
   ]
  },
  {
   "cell_type": "code",
   "execution_count": 77,
   "metadata": {},
   "outputs": [
    {
     "data": {
      "text/html": [
       "<div>\n",
       "<style scoped>\n",
       "    .dataframe tbody tr th:only-of-type {\n",
       "        vertical-align: middle;\n",
       "    }\n",
       "\n",
       "    .dataframe tbody tr th {\n",
       "        vertical-align: top;\n",
       "    }\n",
       "\n",
       "    .dataframe thead th {\n",
       "        text-align: right;\n",
       "    }\n",
       "</style>\n",
       "<table border=\"1\" class=\"dataframe\">\n",
       "  <thead>\n",
       "    <tr style=\"text-align: right;\">\n",
       "      <th></th>\n",
       "      <th>smiles</th>\n",
       "      <th>molecular string representation</th>\n",
       "      <th>branches length</th>\n",
       "    </tr>\n",
       "  </thead>\n",
       "  <tbody>\n",
       "    <tr>\n",
       "      <th>0</th>\n",
       "      <td>O=S(=O)(Nc1cc(F)ccc1F)c1ccc(F)c(F)c1F</td>\n",
       "      <td>canonical SMILES</td>\n",
       "      <td>3</td>\n",
       "    </tr>\n",
       "    <tr>\n",
       "      <th>1</th>\n",
       "      <td>O=S(=O)(Nc1cc(F)ccc1F)c1ccc(F)c(F)c1F</td>\n",
       "      <td>canonical SMILES</td>\n",
       "      <td>2</td>\n",
       "    </tr>\n",
       "    <tr>\n",
       "      <th>2</th>\n",
       "      <td>O=S(=O)(Nc1cc(F)ccc1F)c1ccc(F)c(F)c1F</td>\n",
       "      <td>canonical SMILES</td>\n",
       "      <td>14</td>\n",
       "    </tr>\n",
       "    <tr>\n",
       "      <th>3</th>\n",
       "      <td>O=S(=O)(Nc1cc(F)ccc1F)c1ccc(F)c(F)c1F</td>\n",
       "      <td>canonical SMILES</td>\n",
       "      <td>2</td>\n",
       "    </tr>\n",
       "    <tr>\n",
       "      <th>4</th>\n",
       "      <td>O=S(=O)(Nc1cc(F)ccc1F)c1ccc(F)c(F)c1F</td>\n",
       "      <td>canonical SMILES</td>\n",
       "      <td>2</td>\n",
       "    </tr>\n",
       "    <tr>\n",
       "      <th>...</th>\n",
       "      <td>...</td>\n",
       "      <td>...</td>\n",
       "      <td>...</td>\n",
       "    </tr>\n",
       "    <tr>\n",
       "      <th>13341887</th>\n",
       "      <td>C1CCCN2C1COC(C2)CNC(=O)NC1=NN=C(S1)C1CC1</td>\n",
       "      <td>sampled ClearSMILES</td>\n",
       "      <td>3</td>\n",
       "    </tr>\n",
       "    <tr>\n",
       "      <th>13341888</th>\n",
       "      <td>C1C=CC=CC=1SCCNC(=O)C1C=NN(C=1C)C1C=CN=CC=1</td>\n",
       "      <td>sampled ClearSMILES</td>\n",
       "      <td>3</td>\n",
       "    </tr>\n",
       "    <tr>\n",
       "      <th>13341889</th>\n",
       "      <td>C1C=CC=CC=1SCCNC(=O)C1C=NN(C=1C)C1C=CN=CC=1</td>\n",
       "      <td>sampled ClearSMILES</td>\n",
       "      <td>5</td>\n",
       "    </tr>\n",
       "    <tr>\n",
       "      <th>13341890</th>\n",
       "      <td>C1CCCN2C1COC(C2)CNC(=O)NC1=CC=CC2C1=NC=CC=2</td>\n",
       "      <td>sampled ClearSMILES</td>\n",
       "      <td>3</td>\n",
       "    </tr>\n",
       "    <tr>\n",
       "      <th>13341891</th>\n",
       "      <td>C1CCCN2C1COC(C2)CNC(=O)NC1=CC=CC2C1=NC=CC=2</td>\n",
       "      <td>sampled ClearSMILES</td>\n",
       "      <td>3</td>\n",
       "    </tr>\n",
       "  </tbody>\n",
       "</table>\n",
       "<p>13341892 rows × 3 columns</p>\n",
       "</div>"
      ],
      "text/plain": [
       "                                               smiles  \\\n",
       "0               O=S(=O)(Nc1cc(F)ccc1F)c1ccc(F)c(F)c1F   \n",
       "1               O=S(=O)(Nc1cc(F)ccc1F)c1ccc(F)c(F)c1F   \n",
       "2               O=S(=O)(Nc1cc(F)ccc1F)c1ccc(F)c(F)c1F   \n",
       "3               O=S(=O)(Nc1cc(F)ccc1F)c1ccc(F)c(F)c1F   \n",
       "4               O=S(=O)(Nc1cc(F)ccc1F)c1ccc(F)c(F)c1F   \n",
       "...                                               ...   \n",
       "13341887     C1CCCN2C1COC(C2)CNC(=O)NC1=NN=C(S1)C1CC1   \n",
       "13341888  C1C=CC=CC=1SCCNC(=O)C1C=NN(C=1C)C1C=CN=CC=1   \n",
       "13341889  C1C=CC=CC=1SCCNC(=O)C1C=NN(C=1C)C1C=CN=CC=1   \n",
       "13341890  C1CCCN2C1COC(C2)CNC(=O)NC1=CC=CC2C1=NC=CC=2   \n",
       "13341891  C1CCCN2C1COC(C2)CNC(=O)NC1=CC=CC2C1=NC=CC=2   \n",
       "\n",
       "         molecular string representation  branches length  \n",
       "0                       canonical SMILES                3  \n",
       "1                       canonical SMILES                2  \n",
       "2                       canonical SMILES               14  \n",
       "3                       canonical SMILES                2  \n",
       "4                       canonical SMILES                2  \n",
       "...                                  ...              ...  \n",
       "13341887             sampled ClearSMILES                3  \n",
       "13341888             sampled ClearSMILES                3  \n",
       "13341889             sampled ClearSMILES                5  \n",
       "13341890             sampled ClearSMILES                3  \n",
       "13341891             sampled ClearSMILES                3  \n",
       "\n",
       "[13341892 rows x 3 columns]"
      ]
     },
     "execution_count": 77,
     "metadata": {},
     "output_type": "execute_result"
    }
   ],
   "source": [
    "branch_size_df"
   ]
  },
  {
   "cell_type": "code",
   "execution_count": 78,
   "metadata": {},
   "outputs": [
    {
     "data": {
      "image/png": "[encoded data removed]",
      "text/plain": [
       "<Figure size 600x300 with 1 Axes>"
      ]
     },
     "metadata": {},
     "output_type": "display_data"
    }
   ],
   "source": [
    "\n",
    "fig=sns.countplot(data=branch_size_df,x=\"branches length\", hue=\"molecular string representation\")\n",
    "fig.set_xlabel(\"number of branches (per millions)\")\n",
    "fig.set_ylabel(\"number of tokens in branch\")\n",
    "fig.tick_params(axis='x', labelsize=7)\n",
    "fig.tick_params(axis='y', labelsize=8)\n",
    "plt.savefig(\"../../../Pictures/branches_length.svg\", format='svg')"
   ]
  },
  {
   "cell_type": "code",
   "execution_count": 79,
   "metadata": {},
   "outputs": [],
   "source": [
    "def get_semantic_mem_score(smiles :str, data_augmentation : str,smiles_regex :re.compile) -> dict: \n",
    "    \"\"\"\n",
    "    This function will generate a semantic memory map of a SMILES, i.e the number of semantic feature open for every token. \n",
    "    Semantic feature include  branches and  rings \n",
    "        smiles (string) : a valid SMILES \n",
    "        SMILES_REGEX (compiled regular expression): compiled regular expression used to tokenize SMILES\n",
    "        bonds_set (set of strings): a set containing all the bonds tokens\n",
    "    output :\n",
    "        results_dict  (dict):   contains smiles, data augmentation and memory score\n",
    "    \"\"\"\n",
    "\n",
    "    ### declare local variables\n",
    "    tokens_list=smiles_regex.findall(smiles)\n",
    "    mem_map= np.zeros(len(tokens_list),dtype=int)\n",
    "    digit_set=set()\n",
    "\n",
    "    ### iterate throught tokens \n",
    "    for i,token in enumerate(tokens_list):\n",
    "        if token==\"(\":\n",
    "            mem_map[i]+= 1\n",
    "        elif token==\")\":\n",
    "            mem_map[i]-=1\n",
    "        elif token.isdigit():\n",
    "            if token in digit_set:\n",
    "                digit_set.remove(token)\n",
    "                mem_map[i]-= 1\n",
    "            else:\n",
    "                digit_set.add(token)\n",
    "                mem_map[i]+= 1\n",
    "\n",
    "    # package results\n",
    "    result_dict={\n",
    "        \"smiles\" : smiles,\n",
    "        \"molecular string representation\" : data_augmentation,\n",
    "        \"mem_score\" : np.mean(mem_map.cumsum())\n",
    "    }\n",
    "    \n",
    "    return result_dict"
   ]
  },
  {
   "cell_type": "code",
   "execution_count": 80,
   "metadata": {},
   "outputs": [],
   "source": [
    "# prepare partial object for multiprocessing\n",
    "mp_mem_score=partial(get_semantic_mem_score,smiles_regex=SMILES_REGEX,data_augmentation=\"canonical SMILES\")\n",
    "\n",
    "with mp.Pool(NB_CORES) as pool:\n",
    "    results= pool.map(mp_mem_score,df[\"canonical_smiles\"])\n",
    "\n",
    "\n",
    "mp_mem_score=partial(get_semantic_mem_score,smiles_regex=SMILES_REGEX,data_augmentation=\"sampled ClearSMILES\")\n",
    "with mp.Pool(NB_CORES) as pool:\n",
    "    results.extend(pool.map(mp_mem_score,df[\"sampled_ClearSMILES\"])) \n"
   ]
  },
  {
   "cell_type": "code",
   "execution_count": 81,
   "metadata": {},
   "outputs": [],
   "source": [
    "df_mem_score= pd.DataFrame(results)"
   ]
  },
  {
   "cell_type": "code",
   "execution_count": 82,
   "metadata": {},
   "outputs": [
    {
     "data": {
      "text/html": [
       "<div>\n",
       "<style scoped>\n",
       "    .dataframe tbody tr th:only-of-type {\n",
       "        vertical-align: middle;\n",
       "    }\n",
       "\n",
       "    .dataframe tbody tr th {\n",
       "        vertical-align: top;\n",
       "    }\n",
       "\n",
       "    .dataframe thead th {\n",
       "        text-align: right;\n",
       "    }\n",
       "</style>\n",
       "<table border=\"1\" class=\"dataframe\">\n",
       "  <thead>\n",
       "    <tr style=\"text-align: right;\">\n",
       "      <th></th>\n",
       "      <th>smiles</th>\n",
       "      <th>molecular string representation</th>\n",
       "      <th>mem_score</th>\n",
       "    </tr>\n",
       "  </thead>\n",
       "  <tbody>\n",
       "    <tr>\n",
       "      <th>0</th>\n",
       "      <td>O=S(=O)(Nc1cc(F)ccc1F)c1ccc(F)c(F)c1F</td>\n",
       "      <td>canonical SMILES</td>\n",
       "      <td>1.189189</td>\n",
       "    </tr>\n",
       "    <tr>\n",
       "      <th>1</th>\n",
       "      <td>N#Cc1cccc(S(=O)(=O)Nc2cc(F)ccc2F)c1</td>\n",
       "      <td>canonical SMILES</td>\n",
       "      <td>2.000000</td>\n",
       "    </tr>\n",
       "    <tr>\n",
       "      <th>2</th>\n",
       "      <td>N#Cc1ccc(S(=O)(=O)Nc2cc(F)ccc2F)cc1</td>\n",
       "      <td>canonical SMILES</td>\n",
       "      <td>2.000000</td>\n",
       "    </tr>\n",
       "    <tr>\n",
       "      <th>3</th>\n",
       "      <td>O=S(=O)(Nc1cc(F)ccc1F)c1ccc2c(c1)OCCCO2</td>\n",
       "      <td>canonical SMILES</td>\n",
       "      <td>1.282051</td>\n",
       "    </tr>\n",
       "    <tr>\n",
       "      <th>4</th>\n",
       "      <td>COc1ccc(OC)c(S(=O)(=O)Nc2cc(F)ccc2F)c1</td>\n",
       "      <td>canonical SMILES</td>\n",
       "      <td>2.026316</td>\n",
       "    </tr>\n",
       "    <tr>\n",
       "      <th>...</th>\n",
       "      <td>...</td>\n",
       "      <td>...</td>\n",
       "      <td>...</td>\n",
       "    </tr>\n",
       "    <tr>\n",
       "      <th>3873919</th>\n",
       "      <td>C1CCCN2C1COC(C2)CNC(=O)NCC1C=CC=C(C=1)OC</td>\n",
       "      <td>sampled ClearSMILES</td>\n",
       "      <td>0.875000</td>\n",
       "    </tr>\n",
       "    <tr>\n",
       "      <th>3873920</th>\n",
       "      <td>C1CCCN2C1COC(C2)CNC(=O)NCC1C=C(F)C(C)=CC=1</td>\n",
       "      <td>sampled ClearSMILES</td>\n",
       "      <td>0.952381</td>\n",
       "    </tr>\n",
       "    <tr>\n",
       "      <th>3873921</th>\n",
       "      <td>C1CCCN2C1COC(C2)CNC(=O)NC1=NN=C(S1)C1CC1</td>\n",
       "      <td>sampled ClearSMILES</td>\n",
       "      <td>0.875000</td>\n",
       "    </tr>\n",
       "    <tr>\n",
       "      <th>3873922</th>\n",
       "      <td>C1C=CC=CC=1SCCNC(=O)C1C=NN(C=1C)C1C=CN=CC=1</td>\n",
       "      <td>sampled ClearSMILES</td>\n",
       "      <td>0.790698</td>\n",
       "    </tr>\n",
       "    <tr>\n",
       "      <th>3873923</th>\n",
       "      <td>C1CCCN2C1COC(C2)CNC(=O)NC1=CC=CC2C1=NC=CC=2</td>\n",
       "      <td>sampled ClearSMILES</td>\n",
       "      <td>0.930233</td>\n",
       "    </tr>\n",
       "  </tbody>\n",
       "</table>\n",
       "<p>3873924 rows × 3 columns</p>\n",
       "</div>"
      ],
      "text/plain": [
       "                                              smiles  \\\n",
       "0              O=S(=O)(Nc1cc(F)ccc1F)c1ccc(F)c(F)c1F   \n",
       "1                N#Cc1cccc(S(=O)(=O)Nc2cc(F)ccc2F)c1   \n",
       "2                N#Cc1ccc(S(=O)(=O)Nc2cc(F)ccc2F)cc1   \n",
       "3            O=S(=O)(Nc1cc(F)ccc1F)c1ccc2c(c1)OCCCO2   \n",
       "4             COc1ccc(OC)c(S(=O)(=O)Nc2cc(F)ccc2F)c1   \n",
       "...                                              ...   \n",
       "3873919     C1CCCN2C1COC(C2)CNC(=O)NCC1C=CC=C(C=1)OC   \n",
       "3873920   C1CCCN2C1COC(C2)CNC(=O)NCC1C=C(F)C(C)=CC=1   \n",
       "3873921     C1CCCN2C1COC(C2)CNC(=O)NC1=NN=C(S1)C1CC1   \n",
       "3873922  C1C=CC=CC=1SCCNC(=O)C1C=NN(C=1C)C1C=CN=CC=1   \n",
       "3873923  C1CCCN2C1COC(C2)CNC(=O)NC1=CC=CC2C1=NC=CC=2   \n",
       "\n",
       "        molecular string representation  mem_score  \n",
       "0                      canonical SMILES   1.189189  \n",
       "1                      canonical SMILES   2.000000  \n",
       "2                      canonical SMILES   2.000000  \n",
       "3                      canonical SMILES   1.282051  \n",
       "4                      canonical SMILES   2.026316  \n",
       "...                                 ...        ...  \n",
       "3873919             sampled ClearSMILES   0.875000  \n",
       "3873920             sampled ClearSMILES   0.952381  \n",
       "3873921             sampled ClearSMILES   0.875000  \n",
       "3873922             sampled ClearSMILES   0.790698  \n",
       "3873923             sampled ClearSMILES   0.930233  \n",
       "\n",
       "[3873924 rows x 3 columns]"
      ]
     },
     "execution_count": 82,
     "metadata": {},
     "output_type": "execute_result"
    }
   ],
   "source": [
    "df_mem_score"
   ]
  },
  {
   "cell_type": "code",
   "execution_count": 83,
   "metadata": {},
   "outputs": [
    {
     "data": {
      "text/plain": [
       "molecular string representation     \n",
       "canonical SMILES                 0.0    0.310345\n",
       "                                 0.1    0.846154\n",
       "                                 0.2    1.102564\n",
       "                                 0.3    1.307692\n",
       "                                 0.4    1.515152\n",
       "                                 0.5    1.710526\n",
       "                                 0.6    1.878788\n",
       "                                 0.7    2.057143\n",
       "                                 0.8    2.294118\n",
       "                                 0.9    2.600000\n",
       "                                 1.0    4.913043\n",
       "sampled ClearSMILES              0.0    0.250000\n",
       "                                 0.1    0.696970\n",
       "                                 0.2    0.750000\n",
       "                                 0.3    0.785714\n",
       "                                 0.4    0.818182\n",
       "                                 0.5    0.850000\n",
       "                                 0.6    0.882353\n",
       "                                 0.7    0.918367\n",
       "                                 0.8    0.970588\n",
       "                                 0.9    1.030303\n",
       "                                 1.0    2.730769\n",
       "Name: mem_score, dtype: float64"
      ]
     },
     "execution_count": 83,
     "metadata": {},
     "output_type": "execute_result"
    }
   ],
   "source": [
    "step=0.1\n",
    "df_mem_score.groupby(by=[\"molecular string representation\"])[\"mem_score\"].quantile(np.arange(0,1+step,step))"
   ]
  },
  {
   "cell_type": "code",
   "execution_count": 84,
   "metadata": {},
   "outputs": [
    {
     "data": {
      "text/plain": [
       "molecular string representation\n",
       "canonical SMILES       0.661445\n",
       "sampled ClearSMILES    0.134502\n",
       "Name: mem_score, dtype: float64"
      ]
     },
     "execution_count": 84,
     "metadata": {},
     "output_type": "execute_result"
    }
   ],
   "source": [
    "df_mem_score.groupby(by=[\"molecular string representation\"])[\"mem_score\"].std()"
   ]
  },
  {
   "cell_type": "code",
   "execution_count": 85,
   "metadata": {},
   "outputs": [
    {
     "data": {
      "text/plain": [
       "molecular string representation\n",
       "canonical SMILES       1.720709\n",
       "sampled ClearSMILES    0.858267\n",
       "Name: mem_score, dtype: float64"
      ]
     },
     "execution_count": 85,
     "metadata": {},
     "output_type": "execute_result"
    }
   ],
   "source": [
    "df_mem_score.groupby(by=[\"molecular string representation\"])[\"mem_score\"].mean()"
   ]
  },
  {
   "cell_type": "code",
   "execution_count": 86,
   "metadata": {},
   "outputs": [
    {
     "data": {
      "image/png": "[encoded data removed]",
      "text/plain": [
       "<Figure size 600x300 with 1 Axes>"
      ]
     },
     "metadata": {},
     "output_type": "display_data"
    }
   ],
   "source": [
    "fig = sns.kdeplot(data=df_mem_score, x=\"mem_score\", hue=\"molecular string representation\", bw_method=0.1)\n",
    "\n",
    "# Modify x-axis label\n",
    "fig.set(xlabel=\"memory score\")\n",
    "\n",
    "# Modify y-axis label\n",
    "fig.set(ylabel=\"density\")\n",
    "\n",
    "# Explicitly set legend labels\n",
    "\n",
    "legend=fig.legend(title=\"molecular string representation\", labels=['sampled ClearSMILES','canonical SMILES'], fontsize=10)\n",
    "\n",
    "# Adjust the size of the legend title\n",
    "legend.get_title().set_fontsize(10) \n",
    "\n",
    "# sns.move_legend(fig, \"upper left\", bbox_to_anchor=(0.37, 0.95))\n",
    "plt.savefig(\"../../../Pictures/mem_score_kdeplot.svg\", format='svg')\n",
    "plt.show()"
   ]
  },
  {
   "cell_type": "code",
   "execution_count": 87,
   "metadata": {},
   "outputs": [
    {
     "name": "stderr",
     "output_type": "stream",
     "text": [
      "/tmp/ipykernel_6736/568497940.py:14: UserWarning: No artists with labels found to put in legend.  Note that artists whose label start with an underscore are ignored when legend() is called with no argument.\n",
      "  plt.legend(loc='upper left', bbox_to_anchor=(0.5, 0.5))  # You can adjust the bbox_to_anchor values as needed\n"
     ]
    },
    {
     "data": {
      "image/png": "[encoded data removed]",
      "text/plain": [
       "<Figure size 716.75x500 with 1 Axes>"
      ]
     },
     "metadata": {},
     "output_type": "display_data"
    }
   ],
   "source": [
    "# Your existing code\n",
    "fig = sns.displot(data=df_mem_score, x=\"mem_score\", hue=\"molecular string representation\", kde=True)\n",
    "\n",
    "# Modify x-axis label\n",
    "fig.set(xlabel=\"memory score\")\n",
    "\n",
    "# Modify y-axis label\n",
    "fig.set(ylabel=\"density\")\n",
    "\n",
    "# Explicitly set legend labels\n",
    "plt.legend(title=\"molecular string representation\", labels=['sampled ClearSMILES', 'canonical SMILES'], fontsize=6)\n",
    "\n",
    "# Use this to manually position the legend in the center\n",
    "plt.legend(loc='upper left', bbox_to_anchor=(0.5, 0.5))  # You can adjust the bbox_to_anchor values as needed\n",
    "\n",
    "# Save the figure\n",
    "plt.savefig(\"../../../Pictures/mem_score_kdeplot.svg\", format='svg')\n",
    "\n",
    "# Show the plot\n",
    "plt.show()\n"
   ]
  },
  {
   "cell_type": "code",
   "execution_count": 88,
   "metadata": {},
   "outputs": [],
   "source": [
    "sns.set(rc={'figure.figsize':(20,8.27)})\n",
    "sns.set(font_scale=2)"
   ]
  },
  {
   "cell_type": "code",
   "execution_count": 89,
   "metadata": {},
   "outputs": [],
   "source": [
    "def find_main_chain_length(smiles= str(),SMILES_REGEX=re.compile(\"(\\[[^\\]]+]|Br?|Cl?|N|O|S|P|F|I|b|c|n|o|s|p|\\(|\\)|\\.|=|#|-|\\+|\\\\\\\\|\\/|_|:|~|@|\\?|>|\\*|\\$|\\%[0-9]{2}|[0-9])\")): \n",
    "    \"\"\"\n",
    "    THis function wil count the number of tokens that are not in branches. Simply put , it will not count tokens that are comprised between two parenthesis\n",
    "    input :\n",
    "        smiles (string),  a valid smiles \n",
    "        SMILES_REGEX (compiled regex), compiled regex used to tokenize SMILES \n",
    "    output : \n",
    "        length_main_chain (integer), the number of tokens in the main chain \n",
    "    \"\"\"\n",
    "    ### declare local variable \n",
    "    tokens_list= SMILES_REGEX.findall(smiles)\n",
    "    branch_status= 0\n",
    "    length_main_chain=0\n",
    "\n",
    "    \n",
    "    ### iterate through tokens \n",
    "    for token in tokens_list:\n",
    "\n",
    "        ### check for parenthesis parenthesis \n",
    "        if token==\"(\":\n",
    "            branch_status+=1\n",
    "        elif token ==\")\":\n",
    "            branch_status-=1\n",
    "        else:\n",
    "            ### check branch status to know if you need to count token \n",
    "            if branch_status==0:\n",
    "                length_main_chain+=1\n",
    "            else:\n",
    "                pass\n",
    "\n",
    "    return length_main_chain\n"
   ]
  },
  {
   "cell_type": "code",
   "execution_count": 90,
   "metadata": {},
   "outputs": [],
   "source": [
    "with mp.Pool(mp.cpu_count()) as pool:\n",
    "    df[\"canonical_main_chain_length\"]= pool.map(partial(find_main_chain_length,SMILES_REGEX=SMILES_REGEX),df[\"canonical_smiles\"])\n",
    "    pool.close()\n",
    "    pool.join()"
   ]
  },
  {
   "cell_type": "code",
   "execution_count": 91,
   "metadata": {},
   "outputs": [],
   "source": [
    "with mp.Pool(mp.cpu_count()) as pool:\n",
    "    df[\"max_main_chain_length\"]= pool.map(partial(find_main_chain_length,SMILES_REGEX=SMILES_REGEX),df[\"sampled_ClearSMILES\"])\n",
    "    pool.close()\n",
    "    pool.join()"
   ]
  },
  {
   "cell_type": "code",
   "execution_count": 92,
   "metadata": {},
   "outputs": [],
   "source": [
    "df[\"canonical_main_chain_length\"]= df[\"canonical_main_chain_length\"]/df[\"nb_token_regular\"]"
   ]
  },
  {
   "cell_type": "code",
   "execution_count": null,
   "metadata": {},
   "outputs": [],
   "source": []
  },
  {
   "cell_type": "code",
   "execution_count": 93,
   "metadata": {},
   "outputs": [],
   "source": [
    "df[\"max_main_chain_length\"]=df[\"max_main_chain_length\"]/df[\"nb_token_ClearSMILES\"]"
   ]
  },
  {
   "cell_type": "code",
   "execution_count": 94,
   "metadata": {},
   "outputs": [],
   "source": [
    "df_main_chain= pd.DataFrame(data=[[\"canonical SMILES\",main_chain_length] for main_chain_length in df[\"canonical_main_chain_length\"]]+[[\"sampled ClearSMILES\",main_chain_length] for main_chain_length in df[\"max_main_chain_length\"]],columns=[\"molecular string representation\",\"main_chain_length\"])"
   ]
  },
  {
   "cell_type": "code",
   "execution_count": 95,
   "metadata": {},
   "outputs": [],
   "source": [
    "sns.set(rc={'figure.figsize':(6,3)})\n",
    "sns.set(font_scale=0.80)"
   ]
  },
  {
   "cell_type": "code",
   "execution_count": 96,
   "metadata": {},
   "outputs": [],
   "source": [
    "sns.set(font_scale=1)"
   ]
  },
  {
   "cell_type": "code",
   "execution_count": 97,
   "metadata": {},
   "outputs": [
    {
     "data": {
      "image/png": "[encoded data removed]",
      "text/plain": [
       "<Figure size 600x300 with 1 Axes>"
      ]
     },
     "metadata": {},
     "output_type": "display_data"
    }
   ],
   "source": [
    "fig = sns.kdeplot(data=df_main_chain, x=\"main_chain_length\", hue=\"molecular string representation\")\n",
    "\n",
    "# Modify x-axis label\n",
    "fig.set(xlabel=\"ratio of main chain tokens\")\n",
    "\n",
    "# Modify y-axis label\n",
    "fig.set(ylabel=\"density\")\n",
    "\n",
    "# Explicitly set legend labels\n",
    "\n",
    "legend=fig.legend(title=\"molecular string representation\", labels=[ 'sampled ClearSMILES','canonical SMILES'], fontsize=6)\n",
    "\n",
    "# Adjust the size of the legend title\n",
    "legend.get_title().set_fontsize(6) \n",
    "\n",
    "# sns.move_legend(fig, \"upper left\", bbox_to_anchor=(0.37, 0.95))\n",
    "plt.savefig(\"../../../Pictures/main_chain_size.svg\", format='svg')\n",
    "plt.show()"
   ]
  },
  {
   "cell_type": "code",
   "execution_count": 115,
   "metadata": {},
   "outputs": [
    {
     "name": "stderr",
     "output_type": "stream",
     "text": [
      "/tmp/ipykernel_6736/2312343593.py:26: UserWarning: No artists with labels found to put in legend.  Note that artists whose label start with an underscore are ignored when legend() is called with no argument.\n",
      "  axes[1].legend()\n",
      "/tmp/ipykernel_6736/2312343593.py:35: UserWarning: No artists with labels found to put in legend.  Note that artists whose label start with an underscore are ignored when legend() is called with no argument.\n",
      "  axes[2].legend()\n"
     ]
    },
    {
     "data": {
      "image/png": "[encoded data removed]",
      "text/plain": [
       "<Figure size 600x750 with 3 Axes>"
      ]
     },
     "metadata": {},
     "output_type": "display_data"
    }
   ],
   "source": [
    "# Path to save the file\n",
    "path2file = \"../../../Pictures/ClearSMILES_panel_figure.svg\"\n",
    "\n",
    "# Compute the number of rows needed\n",
    "nb_row = 3\n",
    "nb_col = 1\n",
    "\n",
    "# Set up subplots\n",
    "fig, axes = plt.subplots(nrows=nb_row, ncols=nb_col, figsize=(6, 2.5*nb_row))\n",
    "\n",
    "# First subplot\n",
    "sns.countplot(data=branch_size_df, x=\"branches length\", hue=\"molecular string representation\", ax=axes[0])\n",
    "axes[0].set_ylabel(\"number of branches (per millions)\", fontsize=10)\n",
    "axes[0].set_xlabel(\"number of tokens in branch\", fontsize=10)\n",
    "axes[0].tick_params(axis='x', labelsize=6)\n",
    "axes[0].tick_params(axis='y', labelsize=8)\n",
    "axes[0].legend(title=\"molecular string representation\", labels=[ 'canonical SMILES','sampled ClearSMILES'], fontsize=8)\n",
    "legend.get_title().set_fontsize(8) \n",
    "\n",
    "# Second subplot\n",
    "sns.kdeplot(data=df_mem_score, x=\"mem_score\", hue=\"molecular string representation\", bw_method=0.1, ax=axes[1])\n",
    "axes[1].set_xlabel(\"memory score\", fontsize=10)\n",
    "axes[1].set_ylabel(\"density\", fontsize=10)\n",
    "axes[1].tick_params(axis='x', labelsize=8)\n",
    "axes[1].tick_params(axis='y', labelsize=8)\n",
    "axes[1].legend()\n",
    "legend.get_title().set_fontsize(8) \n",
    "\n",
    "# Third subplot (Placeholder, replace with your actual plot)\n",
    "fig = sns.kdeplot(data=df_main_chain, x=\"main_chain_length\", hue=\"molecular string representation\", ax=axes[2])\n",
    "axes[2].set_xlabel(\"ratio of main chain tokens\", fontsize=10)\n",
    "axes[2].set_ylabel(\"density\", fontsize=10)\n",
    "axes[2].tick_params(axis='x', labelsize=8)\n",
    "axes[2].tick_params(axis='y', labelsize=8)\n",
    "axes[2].legend()\n",
    "legend.get_title().set_fontsize(8) \n",
    "\n",
    "# Subplot labels\n",
    "subplot_labels = [\"(a)\", \"(b)\", \"(c)\"]\n",
    "for ax, label in zip(axes.ravel(), subplot_labels):\n",
    "    ax.text(-0.15, 1.1, label, transform=ax.transAxes, fontsize=10, fontweight=\"bold\")\n",
    "\n",
    "# Adjust layout\n",
    "plt.tight_layout()\n",
    "plt.savefig(path2file, format=\"svg\")\n",
    "plt.show()\n"
   ]
  },
  {
   "cell_type": "code",
   "execution_count": 120,
   "metadata": {},
   "outputs": [
    {
     "data": {
      "text/plain": [
       "1411"
      ]
     },
     "execution_count": 120,
     "metadata": {},
     "output_type": "execute_result"
    }
   ],
   "source": [
    " - 3"
   ]
  },
  {
   "cell_type": "code",
   "execution_count": 124,
   "metadata": {},
   "outputs": [
    {
     "data": {
      "text/plain": [
       "707"
      ]
     },
     "execution_count": 124,
     "metadata": {},
     "output_type": "execute_result"
    }
   ],
   "source": [
    "int(('0' + '7') * 2)"
   ]
  },
  {
   "cell_type": "code",
   "execution_count": 123,
   "metadata": {},
   "outputs": [
    {
     "data": {
      "text/plain": [
       "1414"
      ]
     },
     "execution_count": 123,
     "metadata": {},
     "output_type": "execute_result"
    }
   ],
   "source": [
    "( * 2)"
   ]
  },
  {
   "cell_type": "code",
   "execution_count": 119,
   "metadata": {},
   "outputs": [
    {
     "name": "stdout",
     "output_type": "stream",
     "text": [
      "0\n",
      " -1\n",
      "  -2\n",
      "   -3\n",
      "    -4\n",
      "     -5\n",
      "      -6\n",
      "       -7\n",
      "        -8\n",
      "         -9\n"
     ]
    }
   ],
   "source": [
    "liste = list(range(10))\n",
    "for i in range(len(liste)):\n",
    "    print(f\"{' ' * i}{-i}\")"
   ]
  },
  {
   "cell_type": "code",
   "execution_count": 99,
   "metadata": {},
   "outputs": [],
   "source": [
    "adam_mol=Chem.MolFromSmiles(\"C1C2CC3CC1CC(C2)C3\")"
   ]
  },
  {
   "cell_type": "code",
   "execution_count": 100,
   "metadata": {},
   "outputs": [
    {
     "data": {
      "image/png": "[encoded data removed]",
      "text/plain": [
       "<rdkit.Chem.rdchem.Mol at 0x76ad5d0bcac0>"
      ]
     },
     "execution_count": 100,
     "metadata": {},
     "output_type": "execute_result"
    }
   ],
   "source": [
    "adam_mol"
   ]
  },
  {
   "cell_type": "code",
   "execution_count": 101,
   "metadata": {},
   "outputs": [],
   "source": [
    "def find_substruct(smiles : str, query_mol : Chem.Mol)-> bool: \n",
    "    \"\"\" this function search a pattern in a mol using rdkit mol object \n",
    "    Args:\n",
    "        smiles (str):  smiles of the molecule to be search\n",
    "        query_mol (Chem.Mol): Mol object containing parten\n",
    "\n",
    "    Returns:\n",
    "        bool:  Results of the query \n",
    "    \"\"\"\n",
    "    ### fuck that \n",
    "    mol= Chem.MolFromSmiles(smiles)\n",
    "\n",
    "    return mol.HasSubstructMatch(query_mol)"
   ]
  },
  {
   "cell_type": "code",
   "execution_count": 102,
   "metadata": {},
   "outputs": [],
   "source": [
    "mp_part= partial(find_substruct,query_mol=adam_mol)\n",
    "with mp.Pool(mp.cpu_count()-4) as pool:\n",
    "    results=  pool.map(mp_part,df.query(\"max_digit>2\")[\"sampled_ClearSMILES\"])\n"
   ]
  },
  {
   "cell_type": "code",
   "execution_count": 103,
   "metadata": {},
   "outputs": [
    {
     "data": {
      "text/plain": [
       "0.5386755703951029"
      ]
     },
     "execution_count": 103,
     "metadata": {},
     "output_type": "execute_result"
    }
   ],
   "source": [
    "np.sum(results)/len(results)"
   ]
  },
  {
   "cell_type": "code",
   "execution_count": 104,
   "metadata": {},
   "outputs": [],
   "source": [
    "inversed_results= [True if not result else False for result in results ]"
   ]
  },
  {
   "cell_type": "code",
   "execution_count": 105,
   "metadata": {},
   "outputs": [
    {
     "data": {
      "text/plain": [
       "2526               C(C)S(=O)(=O)NCCNC(=O)N1CC2CC3CC1CC(C2)C3\n",
       "3906               C1=CC=C2C3=C1CCC3=CC=C2C(=O)NC1=NN=C(S1)C\n",
       "4116                 C1C=COC=1CNC(=O)C1=CC=C2CCC3=C2C1=CC=C3\n",
       "4470           C1CCCCCN1S(=O)(=O)C1=CC=C2C3C1=CC=CC=3C(N2)=O\n",
       "4636          O=C1C2=CC=CC=C2OC23N1CCCN2C(=O)C1C(O3)=CC=CC=1\n",
       "                                 ...                        \n",
       "1932280    C1=CC=CC=C1CNS(=O)(=O)C1=CC=C2C3C1=CC=CC=3C(N2)=O\n",
       "1932566         C1CCCCN1S(=O)(=O)C1=CC=C2C3C1=CC=CC=3C(S2)=O\n",
       "1933101              O=C1C(=O)N2C3=C1C=C(OCC)C=C3C(C)CC2(C)C\n",
       "1933238           C(C)COC(=O)C1C2C=CC3(O2)C1C(=O)N(C3)CC(C)C\n",
       "1933676      C1C=CC2CCN3C=2C=1C(O)=C(C3=O)C(=O)NC1=NC=CC=C1O\n",
       "Name: sampled_ClearSMILES, Length: 2487, dtype: object"
      ]
     },
     "execution_count": 105,
     "metadata": {},
     "output_type": "execute_result"
    }
   ],
   "source": [
    "df.query(\"max_digit>2\")[\"sampled_ClearSMILES\"][inversed_results]"
   ]
  },
  {
   "cell_type": "code",
   "execution_count": 106,
   "metadata": {},
   "outputs": [],
   "source": [
    "tropane_core= Chem.MolFromSmiles(\"N1CC2CC3CC1CC(C2)C3\")"
   ]
  },
  {
   "cell_type": "code",
   "execution_count": 107,
   "metadata": {},
   "outputs": [],
   "source": [
    "mp_part= partial(find_substruct,query_mol=tropane_core)\n",
    "with mp.Pool(mp.cpu_count()-4) as pool:\n",
    "    results_tropane=  pool.map(mp_part,df.query(\"max_digit>2\")[\"sampled_ClearSMILES\"])\n"
   ]
  },
  {
   "cell_type": "code",
   "execution_count": 108,
   "metadata": {},
   "outputs": [],
   "source": [
    "tropane_adam_results= [ True if adam_stat or tropane_stat else False for adam_stat,tropane_stat in zip(results,results_tropane)]"
   ]
  },
  {
   "cell_type": "code",
   "execution_count": 109,
   "metadata": {},
   "outputs": [
    {
     "data": {
      "text/plain": [
       "3041"
      ]
     },
     "execution_count": 109,
     "metadata": {},
     "output_type": "execute_result"
    }
   ],
   "source": [
    "len(df.query(\"max_digit>2\")[\"sampled_ClearSMILES\"][tropane_adam_results])"
   ]
  },
  {
   "cell_type": "code",
   "execution_count": 110,
   "metadata": {},
   "outputs": [
    {
     "data": {
      "text/plain": [
       "5391"
      ]
     },
     "execution_count": 110,
     "metadata": {},
     "output_type": "execute_result"
    }
   ],
   "source": [
    "df.query(\"max_digit>2\")[\"sampled_ClearSMILES\"].shape[0]"
   ]
  },
  {
   "cell_type": "code",
   "execution_count": 111,
   "metadata": {},
   "outputs": [],
   "source": [
    "quantile_list=np.arange(0.,1.1,.1)"
   ]
  },
  {
   "cell_type": "code",
   "execution_count": 112,
   "metadata": {},
   "outputs": [
    {
     "data": {
      "text/html": [
       "<div>\n",
       "<style scoped>\n",
       "    .dataframe tbody tr th:only-of-type {\n",
       "        vertical-align: middle;\n",
       "    }\n",
       "\n",
       "    .dataframe tbody tr th {\n",
       "        vertical-align: top;\n",
       "    }\n",
       "\n",
       "    .dataframe thead th {\n",
       "        text-align: right;\n",
       "    }\n",
       "</style>\n",
       "<table border=\"1\" class=\"dataframe\">\n",
       "  <thead>\n",
       "    <tr style=\"text-align: right;\">\n",
       "      <th></th>\n",
       "      <th>main_chain_length</th>\n",
       "    </tr>\n",
       "    <tr>\n",
       "      <th>molecular string representation</th>\n",
       "      <th></th>\n",
       "    </tr>\n",
       "  </thead>\n",
       "  <tbody>\n",
       "    <tr>\n",
       "      <th>canonical SMILES</th>\n",
       "      <td>37753</td>\n",
       "    </tr>\n",
       "    <tr>\n",
       "      <th>sampled ClearSMILES</th>\n",
       "      <td>158917</td>\n",
       "    </tr>\n",
       "  </tbody>\n",
       "</table>\n",
       "</div>"
      ],
      "text/plain": [
       "                                 main_chain_length\n",
       "molecular string representation                   \n",
       "canonical SMILES                             37753\n",
       "sampled ClearSMILES                         158917"
      ]
     },
     "execution_count": 112,
     "metadata": {},
     "output_type": "execute_result"
    }
   ],
   "source": [
    "df_main_chain[df_main_chain[\"main_chain_length\"]>0.8].groupby(by=[\"molecular string representation\"]).count()"
   ]
  },
  {
   "cell_type": "code",
   "execution_count": 113,
   "metadata": {},
   "outputs": [
    {
     "data": {
      "text/plain": [
       "molecular string representation     \n",
       "canonical SMILES                 0.0    0.083333\n",
       "                                 0.1    0.236842\n",
       "                                 0.2    0.264706\n",
       "                                 0.3    0.289474\n",
       "                                 0.4    0.315789\n",
       "                                 0.5    0.350000\n",
       "                                 0.6    0.392857\n",
       "                                 0.7    0.450000\n",
       "                                 0.8    0.527778\n",
       "                                 0.9    0.641026\n",
       "                                 1.0    1.000000\n",
       "sampled ClearSMILES              0.0    0.138889\n",
       "                                 0.1    0.510204\n",
       "                                 0.2    0.555556\n",
       "                                 0.3    0.590909\n",
       "                                 0.4    0.621622\n",
       "                                 0.5    0.650000\n",
       "                                 0.6    0.675676\n",
       "                                 0.7    0.707317\n",
       "                                 0.8    0.742857\n",
       "                                 0.9    0.794118\n",
       "                                 1.0    1.000000\n",
       "Name: main_chain_length, dtype: float64"
      ]
     },
     "execution_count": 113,
     "metadata": {},
     "output_type": "execute_result"
    }
   ],
   "source": [
    "df_main_chain.groupby(by=[\"molecular string representation\"])[\"main_chain_length\"].quantile(quantile_list)"
   ]
  }
 ],
 "metadata": {
  "kernelspec": {
   "display_name": "ClearSMILES",
   "language": "python",
   "name": "python3"
  },
  "language_info": {
   "codemirror_mode": {
    "name": "ipython",
    "version": 3
   },
   "file_extension": ".py",
   "mimetype": "text/x-python",
   "name": "python",
   "nbconvert_exporter": "python",
   "pygments_lexer": "ipython3",
   "version": "3.10.14"
  }
 },
 "nbformat": 4,
 "nbformat_minor": 2
}
