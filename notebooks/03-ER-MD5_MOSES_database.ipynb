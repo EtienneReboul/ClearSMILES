{
 "cells": [
  {
   "cell_type": "code",
   "execution_count": 13,
   "metadata": {},
   "outputs": [],
   "source": [
    "import base64\n",
    "import hashlib\n",
    "import requests"
   ]
  },
  {
   "cell_type": "code",
   "execution_count": 16,
   "metadata": {},
   "outputs": [],
   "source": [
    "def compute_md5checksum(filepath : str) -> str:\n",
    "    \"\"\"This function will compute the md5sum in order to have a reference for unit test\n",
    "\n",
    "    Args:\n",
    "        filepath (str):  the file path for which md5sum is computed \n",
    "\n",
    "    Returns:\n",
    "        str: the md5sum as a string \n",
    "    \"\"\"\n",
    "    # instantiate hash object \n",
    "    m = hashlib.md5()\n",
    "\n",
    "    # get the hash \n",
    "    with open(filepath, u'rb') as fh:\n",
    "            while True:\n",
    "                data = fh.read(8192)\n",
    "                if not data:\n",
    "                    break\n",
    "                m.update(data)\n",
    "\n",
    "    # compute md5sum\n",
    "    md5sum= base64.b64encode(m.digest()).decode('ascii') #Encode MD5 digest to BASE 64\n",
    "\n",
    "    return  md5sum"
   ]
  },
  {
   "cell_type": "code",
   "execution_count": 17,
   "metadata": {},
   "outputs": [],
   "source": [
    "moses_md5sum= compute_md5checksum(\"../data/raw/whole_original_MOSES.csv\")"
   ]
  },
  {
   "cell_type": "code",
   "execution_count": 12,
   "metadata": {},
   "outputs": [
    {
     "data": {
      "text/plain": [
       "'a9sNlSbd9f3rh9aqVB3yEw=='"
      ]
     },
     "execution_count": 12,
     "metadata": {},
     "output_type": "execute_result"
    }
   ],
   "source": [
    "moses_md5sum"
   ]
  },
  {
   "cell_type": "code",
   "execution_count": 21,
   "metadata": {},
   "outputs": [],
   "source": [
    "# URL of the file to be checked\n",
    "URL = \"https://media.githubusercontent.com/media/molecularsets/moses/master/data/dataset_v1.csv\"\n",
    "\n",
    "# MD5 checksum of the local file (for reference in the test)\n",
    "LOCAL_MD5SUM = 'a9sNlSbd9f3rh9aqVB3yEw=='\n",
    "\n",
    "# Timeout for the requests in seconds\n",
    "TIMEOUT = 10\n",
    "\n",
    "def get_md5checksum(url : str) -> str:\n",
    "    \"\"\"get the rmd5checksum of online file \"\"\"\n",
    "    r = requests.head(url,timeout=TIMEOUT)\n",
    "    return r.headers"
   ]
  },
  {
   "cell_type": "code",
   "execution_count": 22,
   "metadata": {},
   "outputs": [],
   "source": [
    "header=get_md5checksum(URL)"
   ]
  }
 ],
 "metadata": {
  "kernelspec": {
   "display_name": "general_env",
   "language": "python",
   "name": "python3"
  },
  "language_info": {
   "codemirror_mode": {
    "name": "ipython",
    "version": 3
   },
   "file_extension": ".py",
   "mimetype": "text/x-python",
   "name": "python",
   "nbconvert_exporter": "python",
   "pygments_lexer": "ipython3",
   "version": "3.10.14"
  }
 },
 "nbformat": 4,
 "nbformat_minor": 2
}
